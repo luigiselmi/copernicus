{
 "cells": [
  {
   "cell_type": "markdown",
   "id": "aef6dfaa-2b4f-47a2-96c8-dcedbd5b330d",
   "metadata": {},
   "source": [
    "<img src='../images/copernicus_eumetsat_logo.jpg' alt='Logo EU Copernicus EUMETSAT' align='right' width='50%'></img>"
   ]
  },
  {
   "cell_type": "markdown",
   "id": "501da06d-625b-4194-a038-f05f2611875b",
   "metadata": {},
   "source": [
    "# Global 2m temperature Jan/Jun mean"
   ]
  },
  {
   "cell_type": "code",
   "execution_count": 1,
   "id": "30dc5f1e-0bf7-4ee0-857f-2fd0f21c7fc1",
   "metadata": {
    "scrolled": true
   },
   "outputs": [
    {
     "name": "stdout",
     "output_type": "stream",
     "text": [
      "Python version: 3.12.5\n",
      "Pandas version: 2.2.2\n",
      "Xarray version: 2024.7.0\n"
     ]
    }
   ],
   "source": [
    "import numpy as np\n",
    "import pandas as pd\n",
    "import datetime\n",
    "import xarray as xr\n",
    "import matplotlib.pyplot as plt\n",
    "import cartopy.crs as ccrs\n",
    "import cartopy.feature as cfeature\n",
    "import cartopy\n",
    "import matplotlib.colors as mcol\n",
    "from matplotlib import cm, ticker\n",
    "from matplotlib.colors import ListedColormap\n",
    "from zipfile import ZipFile\n",
    "import cdsapi\n",
    "import warnings\n",
    "warnings.filterwarnings('ignore')\n",
    "from platform import python_version\n",
    "print(\"Python version: %s\"%python_version())\n",
    "print(\"Pandas version: %s\"%pd.__version__)\n",
    "print(\"Xarray version: %s\"%xr.__version__)"
   ]
  },
  {
   "cell_type": "code",
   "execution_count": 2,
   "id": "22fd4c40-abfb-4720-9b9a-cbd1e7813bad",
   "metadata": {},
   "outputs": [],
   "source": [
    "step_hours = 1\n",
    "start_year = 2003\n",
    "end_year = 2024\n",
    "years = list(range(start_year, end_year))\n",
    "variables = ['2m_temperature']\n",
    "months = ['01', '06']\n",
    "bb_north = 90\n",
    "bb_south = -90\n",
    "bb_west = -180\n",
    "bb_east = 180\n",
    "area = [bb_north, bb_west, bb_south, bb_east]  "
   ]
  },
  {
   "cell_type": "code",
   "execution_count": 3,
   "id": "d9e7d277-81fb-445d-87b9-67e84b083233",
   "metadata": {},
   "outputs": [],
   "source": [
    "cams_dataset = \"cams-global-reanalysis-eac4-monthly\""
   ]
  },
  {
   "cell_type": "code",
   "execution_count": 4,
   "id": "5e35dd20-3896-4ee1-887d-43826b029083",
   "metadata": {},
   "outputs": [],
   "source": [
    "DATADIR = 'data'\n",
    "WDIR = f'cams_climatology_temperature_{start_year}_{end_year}'\n",
    "target = f'{DATADIR}/{WDIR}.zip'"
   ]
  },
  {
   "cell_type": "code",
   "execution_count": 5,
   "id": "f59c0351-200d-403b-a2eb-f0a36e356253",
   "metadata": {},
   "outputs": [],
   "source": [
    "request = {\n",
    "    'variable': variables,\n",
    "    'year': years,\n",
    "    'month': months,\n",
    "    'product_type': ['monthly_mean'],\n",
    "    'data_format': 'netcdf_zip'\n",
    "}"
   ]
  },
  {
   "cell_type": "code",
   "execution_count": 6,
   "id": "61e4c063-9f02-4f11-8c8f-3e011002ce48",
   "metadata": {},
   "outputs": [
    {
     "name": "stderr",
     "output_type": "stream",
     "text": [
      "2024-09-02 09:45:11,825 INFO Request ID is 09ad88bc-43a5-42c2-8988-7d499332fa28\n",
      "2024-09-02 09:45:11,875 INFO status has been updated to accepted\n",
      "2024-09-02 09:45:15,724 INFO status has been updated to running\n",
      "2024-09-02 09:45:24,227 INFO Creating download object as zip with files:\n",
      "['data_allhours_sfc.nc']\n",
      "2024-09-02 09:45:24,229 INFO status has been updated to successful\n"
     ]
    },
    {
     "data": {
      "application/vnd.jupyter.widget-view+json": {
       "model_id": "",
       "version_major": 2,
       "version_minor": 0
      },
      "text/plain": [
       "ebdced0f8c802aee5889e5f9a283e9f2.zip:   0%|          | 0.00/7.90M [00:00<?, ?B/s]"
      ]
     },
     "metadata": {},
     "output_type": "display_data"
    },
    {
     "data": {
      "text/plain": [
       "'data/cams_climatology_temperature_2003_2024.zip'"
      ]
     },
     "execution_count": 6,
     "metadata": {},
     "output_type": "execute_result"
    }
   ],
   "source": [
    "client = cdsapi.Client()\n",
    "client.retrieve(cams_dataset, request, target)"
   ]
  },
  {
   "cell_type": "code",
   "execution_count": null,
   "id": "03df1ff8-1371-4c12-8fa2-d53220300105",
   "metadata": {},
   "outputs": [],
   "source": []
  }
 ],
 "metadata": {
  "kernelspec": {
   "display_name": "Python 3 (ipykernel)",
   "language": "python",
   "name": "python3"
  },
  "language_info": {
   "codemirror_mode": {
    "name": "ipython",
    "version": 3
   },
   "file_extension": ".py",
   "mimetype": "text/x-python",
   "name": "python",
   "nbconvert_exporter": "python",
   "pygments_lexer": "ipython3",
   "version": "3.12.5"
  }
 },
 "nbformat": 4,
 "nbformat_minor": 5
}
