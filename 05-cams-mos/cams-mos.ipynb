{
  "cells": [
    {
      "cell_type": "markdown",
      "metadata": {
        "id": "view-in-github",
        "colab_type": "text"
      },
      "source": [
        "<a href=\"https://colab.research.google.com/github/luigiselmi/copernicus/blob/main/05-cams-mos/cams-mos.ipynb\" target=\"_parent\"><img src=\"https://colab.research.google.com/assets/colab-badge.svg\" alt=\"Open In Colab\"/></a>"
      ]
    },
    {
      "cell_type": "markdown",
      "id": "3c3152ae-2a29-43a0-998a-f28d5471eff5",
      "metadata": {
        "id": "3c3152ae-2a29-43a0-998a-f28d5471eff5"
      },
      "source": [
        "[![logo](https://climate.copernicus.eu/sites/default/files/custom-uploads/branding/LogoLine_horizon_CAMS.png)](https://atmosphere.copernicus.eu)"
      ]
    },
    {
      "cell_type": "markdown",
      "id": "98d805c5-9271-4b64-93d4-d99959fc6033",
      "metadata": {
        "id": "98d805c5-9271-4b64-93d4-d99959fc6033"
      },
      "source": [
        "# CAMS-MOS"
      ]
    },
    {
      "cell_type": "markdown",
      "id": "12513eea-0bd1-45e3-bd14-95a52421df06",
      "metadata": {
        "id": "12513eea-0bd1-45e3-bd14-95a52421df06"
      },
      "source": [
        "**Run the tutorial via free cloud platforms**: [![binder](https://mybinder.org/badge.svg)]()\n",
        "[![kaggle](https://kaggle.com/static/images/open-in-kaggle.svg)]()\n",
        "[![colab](https://colab.research.google.com/assets/colab-badge.svg)]()"
      ]
    },
    {
      "cell_type": "markdown",
      "id": "cc937026-2ed5-4ff9-9986-2f735e0c16cb",
      "metadata": {
        "id": "cc937026-2ed5-4ff9-9986-2f735e0c16cb"
      },
      "source": [
        "## Learning objectives"
      ]
    },
    {
      "cell_type": "markdown",
      "id": "5e92899a-bca5-43b3-9d57-6951ff92f2dc",
      "metadata": {
        "id": "5e92899a-bca5-43b3-9d57-6951ff92f2dc"
      },
      "source": [
        "In this notebook we download and plot air-quality point forecasts from the CAMS Atmosphere Data Store. We use the [CAMS European air quality forecasts optimised at observation sites](https://ads-beta.atmosphere.copernicus.eu/datasets/cams-europe-air-quality-forecasts-optimised-at-observation-sites?tab=overview) dataset. We select one european country, from which we get the raw data and the MOS-optimised data, in CSV format, for four pollutants, $NO_2$, $O_3$, $PM10$, and $PM2.5$, from all the stations located there. For \"raw\" data we mean the forecasts from the gridded CAMS ensemble model interpolated over each station. A detailed description is available at the ECMWF documentation website: [CAMS Regional: European Air Quality Forecast Optimised at Observation Sites data documentation](https://confluence.ecmwf.int/display/CKB/CAMS+Regional%3A+European+Air+Quality+Forecast+Optimised+at+Observation+Sites+data+documentation). Examples of air quality data used for policy support and decision making are available at the [Policy Support](https://policy.atmosphere.copernicus.eu/) of the CAMS web site."
      ]
    },
    {
      "cell_type": "markdown",
      "id": "e32b3e65-8657-49b6-82e0-1b71fedf540c",
      "metadata": {
        "id": "e32b3e65-8657-49b6-82e0-1b71fedf540c"
      },
      "source": [
        "## Initial setup"
      ]
    },
    {
      "cell_type": "markdown",
      "id": "7f7103b8-b927-448a-8a6e-bbd8154a2651",
      "metadata": {
        "id": "7f7103b8-b927-448a-8a6e-bbd8154a2651"
      },
      "source": [
        "Before we begin we must prepare our environment. This includes installing the Application Programming Interface (API) of the Climate Data Store (CDS), intalling any other packages not already installed, setting up our CDS API credentials and importing the various Python libraries that we will need."
      ]
    },
    {
      "cell_type": "code",
      "execution_count": 1,
      "id": "9a08f410-97a2-44df-8a25-451c45e41c56",
      "metadata": {
        "id": "9a08f410-97a2-44df-8a25-451c45e41c56",
        "outputId": "b3cc17f8-4e27-4848-ccd0-5150b2f01ce5",
        "colab": {
          "base_uri": "https://localhost:8080/"
        }
      },
      "outputs": [
        {
          "output_type": "stream",
          "name": "stdout",
          "text": [
            "  Preparing metadata (setup.py) ... \u001b[?25l\u001b[?25hdone\n",
            "  Building wheel for multiurl (setup.py) ... \u001b[?25l\u001b[?25hdone\n"
          ]
        }
      ],
      "source": [
        "# Ensure that the cdsapi package is installed\n",
        "!pip install -q cdsapi"
      ]
    },
    {
      "cell_type": "code",
      "execution_count": 2,
      "id": "2ffc9212-902c-4b16-bd99-9bd8e161dfaf",
      "metadata": {
        "id": "2ffc9212-902c-4b16-bd99-9bd8e161dfaf",
        "outputId": "78127fd1-0737-40f8-b5c1-65cccd2d2e2f",
        "colab": {
          "base_uri": "https://localhost:8080/"
        }
      },
      "outputs": [
        {
          "output_type": "stream",
          "name": "stdout",
          "text": [
            "Collecting cartopy\n",
            "  Downloading Cartopy-0.23.0-cp310-cp310-manylinux_2_17_x86_64.manylinux2014_x86_64.whl.metadata (8.0 kB)\n",
            "Requirement already satisfied: numpy>=1.21 in /usr/local/lib/python3.10/dist-packages (from cartopy) (1.26.4)\n",
            "Requirement already satisfied: matplotlib>=3.5 in /usr/local/lib/python3.10/dist-packages (from cartopy) (3.7.1)\n",
            "Requirement already satisfied: shapely>=1.7 in /usr/local/lib/python3.10/dist-packages (from cartopy) (2.0.6)\n",
            "Requirement already satisfied: packaging>=20 in /usr/local/lib/python3.10/dist-packages (from cartopy) (24.1)\n",
            "Requirement already satisfied: pyshp>=2.3 in /usr/local/lib/python3.10/dist-packages (from cartopy) (2.3.1)\n",
            "Requirement already satisfied: pyproj>=3.3.1 in /usr/local/lib/python3.10/dist-packages (from cartopy) (3.6.1)\n",
            "Requirement already satisfied: contourpy>=1.0.1 in /usr/local/lib/python3.10/dist-packages (from matplotlib>=3.5->cartopy) (1.3.0)\n",
            "Requirement already satisfied: cycler>=0.10 in /usr/local/lib/python3.10/dist-packages (from matplotlib>=3.5->cartopy) (0.12.1)\n",
            "Requirement already satisfied: fonttools>=4.22.0 in /usr/local/lib/python3.10/dist-packages (from matplotlib>=3.5->cartopy) (4.53.1)\n",
            "Requirement already satisfied: kiwisolver>=1.0.1 in /usr/local/lib/python3.10/dist-packages (from matplotlib>=3.5->cartopy) (1.4.5)\n",
            "Requirement already satisfied: pillow>=6.2.0 in /usr/local/lib/python3.10/dist-packages (from matplotlib>=3.5->cartopy) (9.4.0)\n",
            "Requirement already satisfied: pyparsing>=2.3.1 in /usr/local/lib/python3.10/dist-packages (from matplotlib>=3.5->cartopy) (3.1.4)\n",
            "Requirement already satisfied: python-dateutil>=2.7 in /usr/local/lib/python3.10/dist-packages (from matplotlib>=3.5->cartopy) (2.8.2)\n",
            "Requirement already satisfied: certifi in /usr/local/lib/python3.10/dist-packages (from pyproj>=3.3.1->cartopy) (2024.8.30)\n",
            "Requirement already satisfied: six>=1.5 in /usr/local/lib/python3.10/dist-packages (from python-dateutil>=2.7->matplotlib>=3.5->cartopy) (1.16.0)\n",
            "Downloading Cartopy-0.23.0-cp310-cp310-manylinux_2_17_x86_64.manylinux2014_x86_64.whl (11.6 MB)\n",
            "\u001b[2K   \u001b[90m━━━━━━━━━━━━━━━━━━━━━━━━━━━━━━━━━━━━━━━━\u001b[0m \u001b[32m11.6/11.6 MB\u001b[0m \u001b[31m76.9 MB/s\u001b[0m eta \u001b[36m0:00:00\u001b[0m\n",
            "\u001b[?25hInstalling collected packages: cartopy\n",
            "Successfully installed cartopy-0.23.0\n"
          ]
        }
      ],
      "source": [
        "# If you are running this notebook in Colab, uncomment the line below and run this cell.\n",
        "!pip install cartopy"
      ]
    },
    {
      "cell_type": "markdown",
      "id": "555bba06-5448-430c-a134-2d01c8b828b0",
      "metadata": {
        "id": "555bba06-5448-430c-a134-2d01c8b828b0"
      },
      "source": [
        "### Add your ADS API credentials"
      ]
    },
    {
      "cell_type": "markdown",
      "id": "a1be6046-291f-4ede-8c78-a8701679636e",
      "metadata": {
        "id": "a1be6046-291f-4ede-8c78-a8701679636e"
      },
      "source": [
        "To set up your ADS API credentials, please login/register on the [ADS](https://ads.atmosphere.copernicus.eu/), then you will see your [unique API key here](https://ads.atmosphere.copernicus.eu/api-how-to).\n",
        "\n",
        "You can add this API key to your current session by replacing `#########` in the code cell below with your API key."
      ]
    },
    {
      "cell_type": "code",
      "execution_count": 3,
      "id": "947b9eba-5190-4e2c-aa19-0dac00aef19e",
      "metadata": {
        "id": "947b9eba-5190-4e2c-aa19-0dac00aef19e"
      },
      "outputs": [],
      "source": [
        "import os\n",
        "os.environ['CDSAPI_URL'] = 'https://ads.atmosphere.copernicus.eu/api/v2'\n",
        "os.environ['CDSAPI_KEY'] = '2953:75d30d0a-f2d4-4599-910f-7db53fecc5c0' #'###########################################'"
      ]
    },
    {
      "cell_type": "markdown",
      "id": "ccb8028f-204d-47ab-8e95-ae11f8ad84d7",
      "metadata": {
        "id": "ccb8028f-204d-47ab-8e95-ae11f8ad84d7"
      },
      "source": [
        "### Import libraries"
      ]
    },
    {
      "cell_type": "code",
      "execution_count": 4,
      "id": "255a2546-7bdf-4e3a-86b7-342fa8cb6480",
      "metadata": {
        "id": "255a2546-7bdf-4e3a-86b7-342fa8cb6480"
      },
      "outputs": [],
      "source": [
        "import os\n",
        "import sys\n",
        "import yaml\n",
        "import json\n",
        "import cdsapi\n",
        "import zipfile\n",
        "import hashlib\n",
        "import pandas as pd\n",
        "import math\n",
        "import datetime\n",
        "from math import ceil, sqrt\n",
        "import matplotlib.pyplot as plt\n",
        "import matplotlib.dates as mdates\n",
        "from zipfile import ZipFile\n",
        "import warnings\n",
        "warnings.filterwarnings('ignore')"
      ]
    },
    {
      "cell_type": "markdown",
      "id": "906c87a6-5617-42ac-a539-d921eb39737a",
      "metadata": {
        "id": "906c87a6-5617-42ac-a539-d921eb39737a"
      },
      "source": [
        "## Data access and preprocessing\n",
        "We want the raw data for four pollutants from the CAMS ensemble model and the MOS-optimised data for all the stations in the european selected country. The data is provided as CVS files. With the data an additional file with a list of the stations is also provided. All the files are zipped for download. The forecasts (lead time hours) are available for 24, 48, 72, and 96 hours starting from each of the the days that have been requested. The days of the forecasts can be in the past till the current day. So if we want the forecast from today for the next 24 hours, in the request we set the current year, month and day, e.g. 2024, 08, 28, and 0-23 for the lead time hours. The days beyond the current one will return no data. The forecasts are available for the current year and the months up to the current one."
      ]
    },
    {
      "cell_type": "code",
      "execution_count": 5,
      "id": "caae3839-f216-4c4b-bfdf-5bb14d361700",
      "metadata": {
        "id": "caae3839-f216-4c4b-bfdf-5bb14d361700"
      },
      "outputs": [],
      "source": [
        "DATADIR = '.'"
      ]
    },
    {
      "cell_type": "markdown",
      "id": "cb7c3efd-a47e-4cce-ae5f-102d49570a23",
      "metadata": {
        "id": "cb7c3efd-a47e-4cce-ae5f-102d49570a23"
      },
      "source": [
        "## Explore and download data"
      ]
    },
    {
      "cell_type": "markdown",
      "id": "2e3e328b-6aa8-48b3-83fa-96c2fc7d5dcd",
      "metadata": {
        "id": "2e3e328b-6aa8-48b3-83fa-96c2fc7d5dcd"
      },
      "source": [
        "Visit the download form for the CAMS global forecast data https://ads.atmosphere.copernicus.eu/cdsapp#!/dataset/cams-global-atmospheric-composition-forecasts?tab=form. View the parameters in the API script in the following cell and select the corresponding options.\n",
        "\n",
        "At the end of the download form, select **\"Show API request\"**. This will reveal a block of code, which should be identical to the code cell below.\n",
        "\n",
        "**Please remember to accept the terms and conditions at the bottom of the download form.**\n"
      ]
    },
    {
      "cell_type": "markdown",
      "id": "88a693c3-67aa-4b0e-b5a3-fdecc7eb237e",
      "metadata": {
        "id": "88a693c3-67aa-4b0e-b5a3-fdecc7eb237e"
      },
      "source": [
        "### Download data"
      ]
    },
    {
      "cell_type": "markdown",
      "id": "9983d3b4-a3a7-4cd3-8023-86241f495f60",
      "metadata": {
        "id": "9983d3b4-a3a7-4cd3-8023-86241f495f60"
      },
      "source": [
        "With the API request copied into the cell below, running this cell will retrieve and download the data you requested into your local directory."
      ]
    },
    {
      "cell_type": "code",
      "execution_count": 6,
      "id": "1bc73ac5-b3e0-4291-a87b-b522032ae6e4",
      "metadata": {
        "id": "1bc73ac5-b3e0-4291-a87b-b522032ae6e4"
      },
      "outputs": [],
      "source": [
        "variables = ['nitrogen_dioxide',\n",
        "             'ozone',\n",
        "             'particulate_matter_10um',\n",
        "             'particulate_matter_2.5um']\n",
        "countries = ['netherlands']\n",
        "year = '2024'\n",
        "months = ['09']\n",
        "days = ['04', '05']\n",
        "leadtime_periods = ['0-23', '24-47']\n",
        "types = ['mos_optimised', 'raw']\n",
        "cams_dataset = 'cams-europe-air-quality-forecasts-optimised-at-observation-sites'"
      ]
    },
    {
      "cell_type": "markdown",
      "id": "08d9a8c6-b88b-4922-9163-b003b6a55d98",
      "metadata": {
        "id": "08d9a8c6-b88b-4922-9163-b003b6a55d98"
      },
      "source": [
        "We can perform some validation tests on the settings, e.g. the last forecast starting day cannot be in the future"
      ]
    },
    {
      "cell_type": "code",
      "execution_count": 7,
      "id": "df07d59f-3cc7-4bfb-bb44-32d6e06bbe1e",
      "metadata": {
        "id": "df07d59f-3cc7-4bfb-bb44-32d6e06bbe1e"
      },
      "outputs": [],
      "source": [
        "def validate_request_data(years, months, days, leadtime_periods):\n",
        "    validation_result = True\n",
        "    current_date = str(datetime.datetime.now())\n",
        "    current_year = current_date[:4]\n",
        "    current_month = current_date[5:7]\n",
        "    current_day = current_date[8:10]\n",
        "    days.sort()\n",
        "\n",
        "    # test forecast days\n",
        "    if (int(days[-1]) > int(current_day)):\n",
        "        print('The last forecast day must be the current one, {:s}/{}, or a previous one.'.format(current_day, current_month))\n",
        "        validation_result = False\n",
        "    # test leadtime periods\n",
        "    if(len(leadtime_periods) > 4):\n",
        "        print('The maximum lead time forecast is 4 days')\n",
        "        validation_result = False\n",
        "\n",
        "    return validation_result"
      ]
    },
    {
      "cell_type": "code",
      "execution_count": 8,
      "id": "be9a0e2d-a983-4727-b330-eead70b08724",
      "metadata": {
        "id": "be9a0e2d-a983-4727-b330-eead70b08724",
        "outputId": "454b47f9-8830-4509-f53a-26f2979e6f96",
        "colab": {
          "base_uri": "https://localhost:8080/"
        }
      },
      "outputs": [
        {
          "output_type": "stream",
          "name": "stdout",
          "text": [
            "The request is valid: 1\n"
          ]
        }
      ],
      "source": [
        "print('The request is valid: {:b}'.format(validate_request_data(year, months, days, leadtime_periods)))"
      ]
    },
    {
      "cell_type": "markdown",
      "id": "bc459ed6-9636-46ed-ae53-3bcc07b96b3f",
      "metadata": {
        "id": "bc459ed6-9636-46ed-ae53-3bcc07b96b3f"
      },
      "source": [
        "We fill the request form with our selections"
      ]
    },
    {
      "cell_type": "code",
      "execution_count": 9,
      "id": "66e6a385-82e2-451c-915f-10d3eca7567a",
      "metadata": {
        "id": "66e6a385-82e2-451c-915f-10d3eca7567a"
      },
      "outputs": [],
      "source": [
        "request = {\n",
        "        'format': 'zip',\n",
        "        'country': countries,\n",
        "        'variable': variables,\n",
        "        'type': types,\n",
        "        'leadtime_hour': leadtime_periods,\n",
        "        'year': year,\n",
        "        'month': months,\n",
        "        'day': days,\n",
        "        'include_station_metadata': 'yes',\n",
        "    }"
      ]
    },
    {
      "cell_type": "markdown",
      "id": "ef60dba8-18ac-4f17-afc7-f81eab0ebf30",
      "metadata": {
        "id": "ef60dba8-18ac-4f17-afc7-f81eab0ebf30"
      },
      "source": [
        "Finally we send the request to the web service"
      ]
    },
    {
      "cell_type": "code",
      "execution_count": 11,
      "id": "95141d12-9dd2-4546-9047-4804bca7a15c",
      "metadata": {
        "id": "95141d12-9dd2-4546-9047-4804bca7a15c",
        "outputId": "3f40ccf2-ef18-4dec-dfc2-173223c4d036",
        "colab": {
          "base_uri": "https://localhost:8080/"
        }
      },
      "outputs": [
        {
          "output_type": "stream",
          "name": "stderr",
          "text": [
            "2024-09-05 12:56:27,188 INFO Welcome to the ADS.\n",
            "As per our announcements on the Forum, this instance of ADS will be decommissioned on 26 September 2024 and will no longer be accessible from this date onwards.\n",
            "Please update your cdsapi package to a version >=0.7.0, create an account on ADS-Beta and update your .cdsapirc file. We strongly recommend users to check our Guidelines at https://confluence.ecmwf.int/x/uINmFw\n",
            "INFO:cdsapi:Welcome to the ADS.\n",
            "As per our announcements on the Forum, this instance of ADS will be decommissioned on 26 September 2024 and will no longer be accessible from this date onwards.\n",
            "Please update your cdsapi package to a version >=0.7.0, create an account on ADS-Beta and update your .cdsapirc file. We strongly recommend users to check our Guidelines at https://confluence.ecmwf.int/x/uINmFw\n",
            "2024-09-05 12:56:27,192 WARNING Move urgently to ads-beta\n",
            "WARNING:cdsapi:Move urgently to ads-beta\n",
            "2024-09-05 12:56:27,198 INFO Sending request to https://ads.atmosphere.copernicus.eu/api/v2/resources/cams-europe-air-quality-forecasts-optimised-at-observation-sites\n",
            "INFO:cdsapi:Sending request to https://ads.atmosphere.copernicus.eu/api/v2/resources/cams-europe-air-quality-forecasts-optimised-at-observation-sites\n",
            "2024-09-05 12:56:27,321 INFO Request is completed\n",
            "INFO:cdsapi:Request is completed\n",
            "2024-09-05 12:56:27,327 INFO Downloading https://download-0001-ads-clone.copernicus-climate.eu/cache-compute-0001/cache/data4/dataset-cams-europe-air-quality-forecasts-optimised-at-observation-sites-0da7c8a6-a8e2-4545-9f08-7038fb67274a.zip to download.zip (159.6K)\n",
            "INFO:cdsapi:Downloading https://download-0001-ads-clone.copernicus-climate.eu/cache-compute-0001/cache/data4/dataset-cams-europe-air-quality-forecasts-optimised-at-observation-sites-0da7c8a6-a8e2-4545-9f08-7038fb67274a.zip to download.zip (159.6K)\n",
            "2024-09-05 12:56:27,575 INFO Download rate 653.6K/s\n",
            "INFO:cdsapi:Download rate 653.6K/s\n"
          ]
        },
        {
          "output_type": "execute_result",
          "data": {
            "text/plain": [
              "Result(content_length=163393,content_type=application/zip,location=https://download-0001-ads-clone.copernicus-climate.eu/cache-compute-0001/cache/data4/dataset-cams-europe-air-quality-forecasts-optimised-at-observation-sites-0da7c8a6-a8e2-4545-9f08-7038fb67274a.zip)"
            ]
          },
          "metadata": {},
          "execution_count": 11
        }
      ],
      "source": [
        "import cdsapi\n",
        "\n",
        "c = cdsapi.Client()\n",
        "c.retrieve(cams_dataset, request, 'download.zip')"
      ]
    },
    {
      "cell_type": "code",
      "execution_count": 12,
      "id": "91aadb39-664c-41f5-baf5-cb72656ec336",
      "metadata": {
        "id": "91aadb39-664c-41f5-baf5-cb72656ec336"
      },
      "outputs": [],
      "source": [
        "with ZipFile(f'{DATADIR}/download.zip', 'r') as zipObj:\n",
        "   zipObj.extractall(path=f'{DATADIR}/download/')"
      ]
    },
    {
      "cell_type": "markdown",
      "id": "21b74689-b60f-404a-8af8-045446f7b9f4",
      "metadata": {
        "id": "21b74689-b60f-404a-8af8-045446f7b9f4"
      },
      "source": [
        "## Inspect data"
      ]
    },
    {
      "cell_type": "markdown",
      "id": "1ff64474-2671-4d1a-97c2-ba6c19e31f56",
      "metadata": {
        "id": "1ff64474-2671-4d1a-97c2-ba6c19e31f56"
      },
      "source": [
        "### The stations list\n",
        "For each station in the list the following data is provided:\n",
        "\n",
        "* The European Environment Information and Observation Network (EIONET) identifier\n",
        "* The station's latitude, longitude, and height\n",
        "* The date of start and end of the operational activity of the station\n",
        "\n",
        "The first two characters of the identifier is the station's country code, e.g. NL for Nederland"
      ]
    },
    {
      "cell_type": "code",
      "execution_count": 13,
      "id": "e81db972-e8cb-4455-8a9a-9258edad7c30",
      "metadata": {
        "id": "e81db972-e8cb-4455-8a9a-9258edad7c30",
        "outputId": "1aa53315-6fa7-4442-b256-7a523cbea887",
        "colab": {
          "base_uri": "https://localhost:8080/"
        }
      },
      "outputs": [
        {
          "output_type": "stream",
          "name": "stdout",
          "text": [
            "Number of zipped files: 33 \n"
          ]
        }
      ],
      "source": [
        "zip_file_list = ZipFile(f'{DATADIR}/download.zip').namelist()\n",
        "zip_file_list = sorted(zip_file_list)\n",
        "print('Number of zipped files: {:d} '.format(len(zip_file_list)))"
      ]
    },
    {
      "cell_type": "markdown",
      "id": "d1a54096-c7d2-40dc-b56d-cafdf8fd8532",
      "metadata": {
        "id": "d1a54096-c7d2-40dc-b56d-cafdf8fd8532"
      },
      "source": [
        "We write the names of the raw and MOS-optimised data files into a list"
      ]
    },
    {
      "cell_type": "code",
      "execution_count": 14,
      "id": "da2af9f6-fcc3-46e6-9799-3e87c0b2d1ce",
      "metadata": {
        "id": "da2af9f6-fcc3-46e6-9799-3e87c0b2d1ce",
        "outputId": "b2d9c477-578e-4d80-9fce-5f0457a7cc7a",
        "colab": {
          "base_uri": "https://localhost:8080/"
        }
      },
      "outputs": [
        {
          "output_type": "stream",
          "name": "stdout",
          "text": [
            "Number of raw and MOS files: 32\n"
          ]
        }
      ],
      "source": [
        "file_list = [item for item in zip_file_list if not item.startswith('station_list')]\n",
        "print('Number of raw and MOS files: {:d}'.format(len(file_list)))"
      ]
    },
    {
      "cell_type": "markdown",
      "id": "49096cd1-cd37-4f51-a07d-be8e8c8ead12",
      "metadata": {
        "id": "49096cd1-cd37-4f51-a07d-be8e8c8ead12"
      },
      "source": [
        "### The data files\n",
        "A raw data file has the following fields\n",
        "\n",
        "* _station_id_\n",
        "* _datetime_\n",
        "* _lead_time_hour_\n",
        "* _species_\n",
        "* _conc_raw_micrograms_per_m3_\n",
        "\n",
        "A MOS-optimised file has the same fields but the last one is named _conc_mos_micrograms_per_m3_. Each file contains the hourly concentrations of a species for one day and one lead time period from all the stations of the country specified in the request to the web service that provides data about that species. The name of the files have the following structure:   \n",
        "\n",
        "&lt;type&gt;&lt;lead time interval&gt;&lt;species&gt;&lt;day&gt;&lt;country code&gt;"
      ]
    },
    {
      "cell_type": "markdown",
      "id": "1cfd1009-b930-47bb-a517-a65b2d52e277",
      "metadata": {
        "id": "1cfd1009-b930-47bb-a517-a65b2d52e277"
      },
      "source": [
        "We define a function to read the raw and MOS files and check that the station IDs are included in the stations list"
      ]
    },
    {
      "cell_type": "code",
      "execution_count": 17,
      "id": "00e9ef88-c388-40da-8d7b-bc89d646aef1",
      "metadata": {
        "id": "00e9ef88-c388-40da-8d7b-bc89d646aef1"
      },
      "outputs": [],
      "source": [
        "def read_metadata(zip_file_list, stations=None):\n",
        "    \"\"\"\n",
        "    Reads the files included in the downloaded zip file\n",
        "    and returns the station metadata and\n",
        "    concentration data as Pandas DataFrames\n",
        "    \"\"\"\n",
        "    data = {}\n",
        "\n",
        "    for name in zip_file_list:\n",
        "        if name.startswith('station_list'):\n",
        "            # Read the station metadata file\n",
        "            date_fmt = '%Y-%m-%d'\n",
        "            file_path = DATADIR + '/download/' + name\n",
        "            station_data = pd.read_csv(file_path, sep=';', keep_default_na=False)\n",
        "            # Remove metadata for stations we're not interested in\n",
        "            if stations:\n",
        "                station_data = station_data[\n",
        "                            station_data.id.isin(stations)]\n",
        "                # Set missing end dates to a date far in the future\n",
        "                no_end = (station_data.date_end == '')\n",
        "                station_data.loc[no_end, 'date_end'] = '2099-01-01'\n",
        "\n",
        "                # Parse start and end dates into datetime objects\n",
        "                station_data.date_start = pd.to_datetime(station_data.date_start, format=date_fmt)\n",
        "                station_data.date_end = pd.to_datetime(station_data.date_end, format=date_fmt)\n",
        "    return station_data"
      ]
    },
    {
      "cell_type": "code",
      "execution_count": 18,
      "id": "0838e7a9-d425-48c6-a7c5-12b4df4a1caf",
      "metadata": {
        "id": "0838e7a9-d425-48c6-a7c5-12b4df4a1caf",
        "outputId": "bd3c3067-3e27-424b-b1cb-9542f5cf802f",
        "colab": {
          "base_uri": "https://localhost:8080/"
        }
      },
      "outputs": [
        {
          "output_type": "stream",
          "name": "stdout",
          "text": [
            "Total number of stations: 2255\n"
          ]
        }
      ],
      "source": [
        "station_data = read_metadata(zip_file_list)\n",
        "print('Total number of stations: {:d}'.format(len(station_data)))"
      ]
    },
    {
      "cell_type": "markdown",
      "id": "d6c95fd8-ab6f-472a-994c-e4fa5380aded",
      "metadata": {
        "id": "d6c95fd8-ab6f-472a-994c-e4fa5380aded"
      },
      "source": [
        "We can count the number of stations in the country that was specified in the request, in this case Nederlands."
      ]
    },
    {
      "cell_type": "code",
      "execution_count": 19,
      "id": "04726a05-6aeb-41ab-9bba-e050ef59e44b",
      "metadata": {
        "id": "04726a05-6aeb-41ab-9bba-e050ef59e44b",
        "outputId": "2fb23f64-3332-417c-e22b-75aa10fa6d13",
        "colab": {
          "base_uri": "https://localhost:8080/"
        }
      },
      "outputs": [
        {
          "output_type": "stream",
          "name": "stdout",
          "text": [
            "Number of stations in NL: 46\n"
          ]
        }
      ],
      "source": [
        "country_code = 'NL'\n",
        "country_stations = station_data[station_data['id'].str.startswith(country_code)]\n",
        "num_country_stations = country_stations.shape[0]\n",
        "print('Number of stations in {0:s}: {1:d}'.format(country_code, num_country_stations))"
      ]
    },
    {
      "cell_type": "markdown",
      "id": "d176f0bd-f95a-4e69-a85c-10d2a4b71416",
      "metadata": {
        "id": "d176f0bd-f95a-4e69-a85c-10d2a4b71416"
      },
      "source": [
        "We can select one or more stations in that country"
      ]
    },
    {
      "cell_type": "code",
      "execution_count": 20,
      "id": "a1e3e03f-c258-4b66-a0d8-617d5946b8ac",
      "metadata": {
        "id": "a1e3e03f-c258-4b66-a0d8-617d5946b8ac"
      },
      "outputs": [],
      "source": [
        "#selected_stations = None\n",
        "#selected_stations = ['NL00014', 'NL00003']\n",
        "selected_stations = ['NL00014']"
      ]
    },
    {
      "cell_type": "code",
      "execution_count": 21,
      "id": "912992fb-301b-409b-b8be-951c63eb5b17",
      "metadata": {
        "id": "912992fb-301b-409b-b8be-951c63eb5b17",
        "outputId": "fa404034-e499-4e48-d2a1-3f56d4464daa",
        "colab": {
          "base_uri": "https://localhost:8080/",
          "height": 89
        }
      },
      "outputs": [
        {
          "output_type": "execute_result",
          "data": {
            "text/plain": [
              "           id  position_number     lon       lat  alt date_start   date_end\n",
              "1859  NL00014                1  4.8662  52.35971  2.0 2024-01-17 2099-01-01"
            ],
            "text/html": [
              "\n",
              "  <div id=\"df-2ba05758-36cb-4f8c-a8fb-b308489313d6\" class=\"colab-df-container\">\n",
              "    <div>\n",
              "<style scoped>\n",
              "    .dataframe tbody tr th:only-of-type {\n",
              "        vertical-align: middle;\n",
              "    }\n",
              "\n",
              "    .dataframe tbody tr th {\n",
              "        vertical-align: top;\n",
              "    }\n",
              "\n",
              "    .dataframe thead th {\n",
              "        text-align: right;\n",
              "    }\n",
              "</style>\n",
              "<table border=\"1\" class=\"dataframe\">\n",
              "  <thead>\n",
              "    <tr style=\"text-align: right;\">\n",
              "      <th></th>\n",
              "      <th>id</th>\n",
              "      <th>position_number</th>\n",
              "      <th>lon</th>\n",
              "      <th>lat</th>\n",
              "      <th>alt</th>\n",
              "      <th>date_start</th>\n",
              "      <th>date_end</th>\n",
              "    </tr>\n",
              "  </thead>\n",
              "  <tbody>\n",
              "    <tr>\n",
              "      <th>1859</th>\n",
              "      <td>NL00014</td>\n",
              "      <td>1</td>\n",
              "      <td>4.8662</td>\n",
              "      <td>52.35971</td>\n",
              "      <td>2.0</td>\n",
              "      <td>2024-01-17</td>\n",
              "      <td>2099-01-01</td>\n",
              "    </tr>\n",
              "  </tbody>\n",
              "</table>\n",
              "</div>\n",
              "    <div class=\"colab-df-buttons\">\n",
              "\n",
              "  <div class=\"colab-df-container\">\n",
              "    <button class=\"colab-df-convert\" onclick=\"convertToInteractive('df-2ba05758-36cb-4f8c-a8fb-b308489313d6')\"\n",
              "            title=\"Convert this dataframe to an interactive table.\"\n",
              "            style=\"display:none;\">\n",
              "\n",
              "  <svg xmlns=\"http://www.w3.org/2000/svg\" height=\"24px\" viewBox=\"0 -960 960 960\">\n",
              "    <path d=\"M120-120v-720h720v720H120Zm60-500h600v-160H180v160Zm220 220h160v-160H400v160Zm0 220h160v-160H400v160ZM180-400h160v-160H180v160Zm440 0h160v-160H620v160ZM180-180h160v-160H180v160Zm440 0h160v-160H620v160Z\"/>\n",
              "  </svg>\n",
              "    </button>\n",
              "\n",
              "  <style>\n",
              "    .colab-df-container {\n",
              "      display:flex;\n",
              "      gap: 12px;\n",
              "    }\n",
              "\n",
              "    .colab-df-convert {\n",
              "      background-color: #E8F0FE;\n",
              "      border: none;\n",
              "      border-radius: 50%;\n",
              "      cursor: pointer;\n",
              "      display: none;\n",
              "      fill: #1967D2;\n",
              "      height: 32px;\n",
              "      padding: 0 0 0 0;\n",
              "      width: 32px;\n",
              "    }\n",
              "\n",
              "    .colab-df-convert:hover {\n",
              "      background-color: #E2EBFA;\n",
              "      box-shadow: 0px 1px 2px rgba(60, 64, 67, 0.3), 0px 1px 3px 1px rgba(60, 64, 67, 0.15);\n",
              "      fill: #174EA6;\n",
              "    }\n",
              "\n",
              "    .colab-df-buttons div {\n",
              "      margin-bottom: 4px;\n",
              "    }\n",
              "\n",
              "    [theme=dark] .colab-df-convert {\n",
              "      background-color: #3B4455;\n",
              "      fill: #D2E3FC;\n",
              "    }\n",
              "\n",
              "    [theme=dark] .colab-df-convert:hover {\n",
              "      background-color: #434B5C;\n",
              "      box-shadow: 0px 1px 3px 1px rgba(0, 0, 0, 0.15);\n",
              "      filter: drop-shadow(0px 1px 2px rgba(0, 0, 0, 0.3));\n",
              "      fill: #FFFFFF;\n",
              "    }\n",
              "  </style>\n",
              "\n",
              "    <script>\n",
              "      const buttonEl =\n",
              "        document.querySelector('#df-2ba05758-36cb-4f8c-a8fb-b308489313d6 button.colab-df-convert');\n",
              "      buttonEl.style.display =\n",
              "        google.colab.kernel.accessAllowed ? 'block' : 'none';\n",
              "\n",
              "      async function convertToInteractive(key) {\n",
              "        const element = document.querySelector('#df-2ba05758-36cb-4f8c-a8fb-b308489313d6');\n",
              "        const dataTable =\n",
              "          await google.colab.kernel.invokeFunction('convertToInteractive',\n",
              "                                                    [key], {});\n",
              "        if (!dataTable) return;\n",
              "\n",
              "        const docLinkHtml = 'Like what you see? Visit the ' +\n",
              "          '<a target=\"_blank\" href=https://colab.research.google.com/notebooks/data_table.ipynb>data table notebook</a>'\n",
              "          + ' to learn more about interactive tables.';\n",
              "        element.innerHTML = '';\n",
              "        dataTable['output_type'] = 'display_data';\n",
              "        await google.colab.output.renderOutput(dataTable, element);\n",
              "        const docLink = document.createElement('div');\n",
              "        docLink.innerHTML = docLinkHtml;\n",
              "        element.appendChild(docLink);\n",
              "      }\n",
              "    </script>\n",
              "  </div>\n",
              "\n",
              "\n",
              "  <div id=\"id_bc86ebb3-7267-4e42-ae8c-ceb0cebf263f\">\n",
              "    <style>\n",
              "      .colab-df-generate {\n",
              "        background-color: #E8F0FE;\n",
              "        border: none;\n",
              "        border-radius: 50%;\n",
              "        cursor: pointer;\n",
              "        display: none;\n",
              "        fill: #1967D2;\n",
              "        height: 32px;\n",
              "        padding: 0 0 0 0;\n",
              "        width: 32px;\n",
              "      }\n",
              "\n",
              "      .colab-df-generate:hover {\n",
              "        background-color: #E2EBFA;\n",
              "        box-shadow: 0px 1px 2px rgba(60, 64, 67, 0.3), 0px 1px 3px 1px rgba(60, 64, 67, 0.15);\n",
              "        fill: #174EA6;\n",
              "      }\n",
              "\n",
              "      [theme=dark] .colab-df-generate {\n",
              "        background-color: #3B4455;\n",
              "        fill: #D2E3FC;\n",
              "      }\n",
              "\n",
              "      [theme=dark] .colab-df-generate:hover {\n",
              "        background-color: #434B5C;\n",
              "        box-shadow: 0px 1px 3px 1px rgba(0, 0, 0, 0.15);\n",
              "        filter: drop-shadow(0px 1px 2px rgba(0, 0, 0, 0.3));\n",
              "        fill: #FFFFFF;\n",
              "      }\n",
              "    </style>\n",
              "    <button class=\"colab-df-generate\" onclick=\"generateWithVariable('station_data')\"\n",
              "            title=\"Generate code using this dataframe.\"\n",
              "            style=\"display:none;\">\n",
              "\n",
              "  <svg xmlns=\"http://www.w3.org/2000/svg\" height=\"24px\"viewBox=\"0 0 24 24\"\n",
              "       width=\"24px\">\n",
              "    <path d=\"M7,19H8.4L18.45,9,17,7.55,7,17.6ZM5,21V16.75L18.45,3.32a2,2,0,0,1,2.83,0l1.4,1.43a1.91,1.91,0,0,1,.58,1.4,1.91,1.91,0,0,1-.58,1.4L9.25,21ZM18.45,9,17,7.55Zm-12,3A5.31,5.31,0,0,0,4.9,8.1,5.31,5.31,0,0,0,1,6.5,5.31,5.31,0,0,0,4.9,4.9,5.31,5.31,0,0,0,6.5,1,5.31,5.31,0,0,0,8.1,4.9,5.31,5.31,0,0,0,12,6.5,5.46,5.46,0,0,0,6.5,12Z\"/>\n",
              "  </svg>\n",
              "    </button>\n",
              "    <script>\n",
              "      (() => {\n",
              "      const buttonEl =\n",
              "        document.querySelector('#id_bc86ebb3-7267-4e42-ae8c-ceb0cebf263f button.colab-df-generate');\n",
              "      buttonEl.style.display =\n",
              "        google.colab.kernel.accessAllowed ? 'block' : 'none';\n",
              "\n",
              "      buttonEl.onclick = () => {\n",
              "        google.colab.notebook.generateWithVariable('station_data');\n",
              "      }\n",
              "      })();\n",
              "    </script>\n",
              "  </div>\n",
              "\n",
              "    </div>\n",
              "  </div>\n"
            ],
            "application/vnd.google.colaboratory.intrinsic+json": {
              "type": "dataframe",
              "variable_name": "station_data",
              "summary": "{\n  \"name\": \"station_data\",\n  \"rows\": 1,\n  \"fields\": [\n    {\n      \"column\": \"id\",\n      \"properties\": {\n        \"dtype\": \"string\",\n        \"num_unique_values\": 1,\n        \"samples\": [\n          \"NL00014\"\n        ],\n        \"semantic_type\": \"\",\n        \"description\": \"\"\n      }\n    },\n    {\n      \"column\": \"position_number\",\n      \"properties\": {\n        \"dtype\": \"number\",\n        \"std\": null,\n        \"min\": 1,\n        \"max\": 1,\n        \"num_unique_values\": 1,\n        \"samples\": [\n          1\n        ],\n        \"semantic_type\": \"\",\n        \"description\": \"\"\n      }\n    },\n    {\n      \"column\": \"lon\",\n      \"properties\": {\n        \"dtype\": \"number\",\n        \"std\": null,\n        \"min\": 4.8662,\n        \"max\": 4.8662,\n        \"num_unique_values\": 1,\n        \"samples\": [\n          4.8662\n        ],\n        \"semantic_type\": \"\",\n        \"description\": \"\"\n      }\n    },\n    {\n      \"column\": \"lat\",\n      \"properties\": {\n        \"dtype\": \"number\",\n        \"std\": null,\n        \"min\": 52.35971,\n        \"max\": 52.35971,\n        \"num_unique_values\": 1,\n        \"samples\": [\n          52.35971\n        ],\n        \"semantic_type\": \"\",\n        \"description\": \"\"\n      }\n    },\n    {\n      \"column\": \"alt\",\n      \"properties\": {\n        \"dtype\": \"number\",\n        \"std\": null,\n        \"min\": 2.0,\n        \"max\": 2.0,\n        \"num_unique_values\": 1,\n        \"samples\": [\n          2.0\n        ],\n        \"semantic_type\": \"\",\n        \"description\": \"\"\n      }\n    },\n    {\n      \"column\": \"date_start\",\n      \"properties\": {\n        \"dtype\": \"date\",\n        \"min\": \"2024-01-17 00:00:00\",\n        \"max\": \"2024-01-17 00:00:00\",\n        \"num_unique_values\": 1,\n        \"samples\": [\n          \"2024-01-17 00:00:00\"\n        ],\n        \"semantic_type\": \"\",\n        \"description\": \"\"\n      }\n    },\n    {\n      \"column\": \"date_end\",\n      \"properties\": {\n        \"dtype\": \"date\",\n        \"min\": \"2099-01-01 00:00:00\",\n        \"max\": \"2099-01-01 00:00:00\",\n        \"num_unique_values\": 1,\n        \"samples\": [\n          \"2099-01-01 00:00:00\"\n        ],\n        \"semantic_type\": \"\",\n        \"description\": \"\"\n      }\n    }\n  ]\n}"
            }
          },
          "metadata": {},
          "execution_count": 21
        }
      ],
      "source": [
        "station_data = read_metadata(zip_file_list, selected_stations)\n",
        "station_data"
      ]
    },
    {
      "cell_type": "markdown",
      "id": "cbfbe2fc-88d5-4987-8905-54cedc43b14e",
      "metadata": {
        "id": "cbfbe2fc-88d5-4987-8905-54cedc43b14e"
      },
      "source": [
        "In the next step we collect the raw and MOS concentrations and then we merge the values in a single dataframe"
      ]
    },
    {
      "cell_type": "code",
      "execution_count": 24,
      "id": "f275fe85-7948-40d6-a445-4b1aa45156e5",
      "metadata": {
        "id": "f275fe85-7948-40d6-a445-4b1aa45156e5"
      },
      "outputs": [],
      "source": [
        "def read_data(station_list, stations):\n",
        "    data = {}\n",
        "    for name in station_list:\n",
        "        # Read the station metadata file\n",
        "        date_fmt = '%Y-%m-%d'\n",
        "        # Read the data file\n",
        "        file_path = DATADIR + '/download/' + name\n",
        "        df = pd.read_csv(file_path, sep=';', parse_dates=['datetime'], infer_datetime_format=True)\n",
        "        # Remove data for stations we're not interested in\n",
        "        if stations:\n",
        "            df = df[df.station_id.isin(stations)]\n",
        "            # Get the name of the column containing concentration so we\n",
        "            # can group data by raw/mos type\n",
        "            data_col = [c for c in df.columns if c.startswith('conc_')]\n",
        "            assert len(data_col) == 1\n",
        "            data_col = data_col[0]\n",
        "            if data_col not in data:\n",
        "                data[data_col] = []\n",
        "            data[data_col].append(df)\n",
        "    return data"
      ]
    },
    {
      "cell_type": "code",
      "execution_count": 25,
      "id": "5e237048-5e05-4290-a1ba-a54a35deb5bd",
      "metadata": {
        "id": "5e237048-5e05-4290-a1ba-a54a35deb5bd",
        "outputId": "6d10bd06-7f1f-4aa9-8696-12ac31e018d7",
        "colab": {
          "base_uri": "https://localhost:8080/"
        }
      },
      "outputs": [
        {
          "output_type": "execute_result",
          "data": {
            "text/plain": [
              "dict_keys(['conc_mos_micrograms_per_m3', 'conc_raw_micrograms_per_m3'])"
            ]
          },
          "metadata": {},
          "execution_count": 25
        }
      ],
      "source": [
        "data = read_data(file_list, selected_stations)\n",
        "data.keys()"
      ]
    },
    {
      "cell_type": "code",
      "execution_count": 26,
      "id": "2a9216ff-07b6-4956-aeb9-a5347c733fc6",
      "metadata": {
        "id": "2a9216ff-07b6-4956-aeb9-a5347c733fc6"
      },
      "outputs": [],
      "source": [
        "def merge_data(data_dict):\n",
        "    merged_data = None\n",
        "    for data_col in list(data_dict.keys()):\n",
        "        # Concatenate all times/countries/species\n",
        "        x = pd.concat(data[data_col])\n",
        "        # Merge raw and mos into combined records\n",
        "        if merged_data is None:\n",
        "            merged_data = x\n",
        "        else:\n",
        "            merged_data = merged_data.merge(x, how='outer', validate='1:1',\n",
        "                                            on=[c for c in x.columns\n",
        "                                                if c != data_col])\n",
        "    return merged_data"
      ]
    },
    {
      "cell_type": "code",
      "execution_count": 27,
      "id": "2a40dd93-d15a-4cfd-83e8-a5616346b47e",
      "metadata": {
        "id": "2a40dd93-d15a-4cfd-83e8-a5616346b47e",
        "outputId": "c92d8fa6-33bc-44d8-d7c9-b7ac283776a7",
        "colab": {
          "base_uri": "https://localhost:8080/",
          "height": 206
        }
      },
      "outputs": [
        {
          "output_type": "execute_result",
          "data": {
            "text/plain": [
              "  station_id            datetime  lead_time_hour species  \\\n",
              "0    NL00014 2024-09-04 00:00:00               0     NO2   \n",
              "1    NL00014 2024-09-04 01:00:00               1     NO2   \n",
              "2    NL00014 2024-09-04 02:00:00               2     NO2   \n",
              "3    NL00014 2024-09-04 03:00:00               3     NO2   \n",
              "4    NL00014 2024-09-04 04:00:00               4     NO2   \n",
              "\n",
              "   conc_mos_micrograms_per_m3  conc_raw_micrograms_per_m3  \n",
              "0                        19.3                        50.1  \n",
              "1                        18.3                        52.5  \n",
              "2                        19.7                        49.9  \n",
              "3                        20.6                        50.7  \n",
              "4                        18.0                        51.0  "
            ],
            "text/html": [
              "\n",
              "  <div id=\"df-b9fffe11-54c9-4787-8c59-5074323d9d15\" class=\"colab-df-container\">\n",
              "    <div>\n",
              "<style scoped>\n",
              "    .dataframe tbody tr th:only-of-type {\n",
              "        vertical-align: middle;\n",
              "    }\n",
              "\n",
              "    .dataframe tbody tr th {\n",
              "        vertical-align: top;\n",
              "    }\n",
              "\n",
              "    .dataframe thead th {\n",
              "        text-align: right;\n",
              "    }\n",
              "</style>\n",
              "<table border=\"1\" class=\"dataframe\">\n",
              "  <thead>\n",
              "    <tr style=\"text-align: right;\">\n",
              "      <th></th>\n",
              "      <th>station_id</th>\n",
              "      <th>datetime</th>\n",
              "      <th>lead_time_hour</th>\n",
              "      <th>species</th>\n",
              "      <th>conc_mos_micrograms_per_m3</th>\n",
              "      <th>conc_raw_micrograms_per_m3</th>\n",
              "    </tr>\n",
              "  </thead>\n",
              "  <tbody>\n",
              "    <tr>\n",
              "      <th>0</th>\n",
              "      <td>NL00014</td>\n",
              "      <td>2024-09-04 00:00:00</td>\n",
              "      <td>0</td>\n",
              "      <td>NO2</td>\n",
              "      <td>19.3</td>\n",
              "      <td>50.1</td>\n",
              "    </tr>\n",
              "    <tr>\n",
              "      <th>1</th>\n",
              "      <td>NL00014</td>\n",
              "      <td>2024-09-04 01:00:00</td>\n",
              "      <td>1</td>\n",
              "      <td>NO2</td>\n",
              "      <td>18.3</td>\n",
              "      <td>52.5</td>\n",
              "    </tr>\n",
              "    <tr>\n",
              "      <th>2</th>\n",
              "      <td>NL00014</td>\n",
              "      <td>2024-09-04 02:00:00</td>\n",
              "      <td>2</td>\n",
              "      <td>NO2</td>\n",
              "      <td>19.7</td>\n",
              "      <td>49.9</td>\n",
              "    </tr>\n",
              "    <tr>\n",
              "      <th>3</th>\n",
              "      <td>NL00014</td>\n",
              "      <td>2024-09-04 03:00:00</td>\n",
              "      <td>3</td>\n",
              "      <td>NO2</td>\n",
              "      <td>20.6</td>\n",
              "      <td>50.7</td>\n",
              "    </tr>\n",
              "    <tr>\n",
              "      <th>4</th>\n",
              "      <td>NL00014</td>\n",
              "      <td>2024-09-04 04:00:00</td>\n",
              "      <td>4</td>\n",
              "      <td>NO2</td>\n",
              "      <td>18.0</td>\n",
              "      <td>51.0</td>\n",
              "    </tr>\n",
              "  </tbody>\n",
              "</table>\n",
              "</div>\n",
              "    <div class=\"colab-df-buttons\">\n",
              "\n",
              "  <div class=\"colab-df-container\">\n",
              "    <button class=\"colab-df-convert\" onclick=\"convertToInteractive('df-b9fffe11-54c9-4787-8c59-5074323d9d15')\"\n",
              "            title=\"Convert this dataframe to an interactive table.\"\n",
              "            style=\"display:none;\">\n",
              "\n",
              "  <svg xmlns=\"http://www.w3.org/2000/svg\" height=\"24px\" viewBox=\"0 -960 960 960\">\n",
              "    <path d=\"M120-120v-720h720v720H120Zm60-500h600v-160H180v160Zm220 220h160v-160H400v160Zm0 220h160v-160H400v160ZM180-400h160v-160H180v160Zm440 0h160v-160H620v160ZM180-180h160v-160H180v160Zm440 0h160v-160H620v160Z\"/>\n",
              "  </svg>\n",
              "    </button>\n",
              "\n",
              "  <style>\n",
              "    .colab-df-container {\n",
              "      display:flex;\n",
              "      gap: 12px;\n",
              "    }\n",
              "\n",
              "    .colab-df-convert {\n",
              "      background-color: #E8F0FE;\n",
              "      border: none;\n",
              "      border-radius: 50%;\n",
              "      cursor: pointer;\n",
              "      display: none;\n",
              "      fill: #1967D2;\n",
              "      height: 32px;\n",
              "      padding: 0 0 0 0;\n",
              "      width: 32px;\n",
              "    }\n",
              "\n",
              "    .colab-df-convert:hover {\n",
              "      background-color: #E2EBFA;\n",
              "      box-shadow: 0px 1px 2px rgba(60, 64, 67, 0.3), 0px 1px 3px 1px rgba(60, 64, 67, 0.15);\n",
              "      fill: #174EA6;\n",
              "    }\n",
              "\n",
              "    .colab-df-buttons div {\n",
              "      margin-bottom: 4px;\n",
              "    }\n",
              "\n",
              "    [theme=dark] .colab-df-convert {\n",
              "      background-color: #3B4455;\n",
              "      fill: #D2E3FC;\n",
              "    }\n",
              "\n",
              "    [theme=dark] .colab-df-convert:hover {\n",
              "      background-color: #434B5C;\n",
              "      box-shadow: 0px 1px 3px 1px rgba(0, 0, 0, 0.15);\n",
              "      filter: drop-shadow(0px 1px 2px rgba(0, 0, 0, 0.3));\n",
              "      fill: #FFFFFF;\n",
              "    }\n",
              "  </style>\n",
              "\n",
              "    <script>\n",
              "      const buttonEl =\n",
              "        document.querySelector('#df-b9fffe11-54c9-4787-8c59-5074323d9d15 button.colab-df-convert');\n",
              "      buttonEl.style.display =\n",
              "        google.colab.kernel.accessAllowed ? 'block' : 'none';\n",
              "\n",
              "      async function convertToInteractive(key) {\n",
              "        const element = document.querySelector('#df-b9fffe11-54c9-4787-8c59-5074323d9d15');\n",
              "        const dataTable =\n",
              "          await google.colab.kernel.invokeFunction('convertToInteractive',\n",
              "                                                    [key], {});\n",
              "        if (!dataTable) return;\n",
              "\n",
              "        const docLinkHtml = 'Like what you see? Visit the ' +\n",
              "          '<a target=\"_blank\" href=https://colab.research.google.com/notebooks/data_table.ipynb>data table notebook</a>'\n",
              "          + ' to learn more about interactive tables.';\n",
              "        element.innerHTML = '';\n",
              "        dataTable['output_type'] = 'display_data';\n",
              "        await google.colab.output.renderOutput(dataTable, element);\n",
              "        const docLink = document.createElement('div');\n",
              "        docLink.innerHTML = docLinkHtml;\n",
              "        element.appendChild(docLink);\n",
              "      }\n",
              "    </script>\n",
              "  </div>\n",
              "\n",
              "\n",
              "<div id=\"df-de2d6d80-0edc-48c0-ab99-2867ee3235f9\">\n",
              "  <button class=\"colab-df-quickchart\" onclick=\"quickchart('df-de2d6d80-0edc-48c0-ab99-2867ee3235f9')\"\n",
              "            title=\"Suggest charts\"\n",
              "            style=\"display:none;\">\n",
              "\n",
              "<svg xmlns=\"http://www.w3.org/2000/svg\" height=\"24px\"viewBox=\"0 0 24 24\"\n",
              "     width=\"24px\">\n",
              "    <g>\n",
              "        <path d=\"M19 3H5c-1.1 0-2 .9-2 2v14c0 1.1.9 2 2 2h14c1.1 0 2-.9 2-2V5c0-1.1-.9-2-2-2zM9 17H7v-7h2v7zm4 0h-2V7h2v10zm4 0h-2v-4h2v4z\"/>\n",
              "    </g>\n",
              "</svg>\n",
              "  </button>\n",
              "\n",
              "<style>\n",
              "  .colab-df-quickchart {\n",
              "      --bg-color: #E8F0FE;\n",
              "      --fill-color: #1967D2;\n",
              "      --hover-bg-color: #E2EBFA;\n",
              "      --hover-fill-color: #174EA6;\n",
              "      --disabled-fill-color: #AAA;\n",
              "      --disabled-bg-color: #DDD;\n",
              "  }\n",
              "\n",
              "  [theme=dark] .colab-df-quickchart {\n",
              "      --bg-color: #3B4455;\n",
              "      --fill-color: #D2E3FC;\n",
              "      --hover-bg-color: #434B5C;\n",
              "      --hover-fill-color: #FFFFFF;\n",
              "      --disabled-bg-color: #3B4455;\n",
              "      --disabled-fill-color: #666;\n",
              "  }\n",
              "\n",
              "  .colab-df-quickchart {\n",
              "    background-color: var(--bg-color);\n",
              "    border: none;\n",
              "    border-radius: 50%;\n",
              "    cursor: pointer;\n",
              "    display: none;\n",
              "    fill: var(--fill-color);\n",
              "    height: 32px;\n",
              "    padding: 0;\n",
              "    width: 32px;\n",
              "  }\n",
              "\n",
              "  .colab-df-quickchart:hover {\n",
              "    background-color: var(--hover-bg-color);\n",
              "    box-shadow: 0 1px 2px rgba(60, 64, 67, 0.3), 0 1px 3px 1px rgba(60, 64, 67, 0.15);\n",
              "    fill: var(--button-hover-fill-color);\n",
              "  }\n",
              "\n",
              "  .colab-df-quickchart-complete:disabled,\n",
              "  .colab-df-quickchart-complete:disabled:hover {\n",
              "    background-color: var(--disabled-bg-color);\n",
              "    fill: var(--disabled-fill-color);\n",
              "    box-shadow: none;\n",
              "  }\n",
              "\n",
              "  .colab-df-spinner {\n",
              "    border: 2px solid var(--fill-color);\n",
              "    border-color: transparent;\n",
              "    border-bottom-color: var(--fill-color);\n",
              "    animation:\n",
              "      spin 1s steps(1) infinite;\n",
              "  }\n",
              "\n",
              "  @keyframes spin {\n",
              "    0% {\n",
              "      border-color: transparent;\n",
              "      border-bottom-color: var(--fill-color);\n",
              "      border-left-color: var(--fill-color);\n",
              "    }\n",
              "    20% {\n",
              "      border-color: transparent;\n",
              "      border-left-color: var(--fill-color);\n",
              "      border-top-color: var(--fill-color);\n",
              "    }\n",
              "    30% {\n",
              "      border-color: transparent;\n",
              "      border-left-color: var(--fill-color);\n",
              "      border-top-color: var(--fill-color);\n",
              "      border-right-color: var(--fill-color);\n",
              "    }\n",
              "    40% {\n",
              "      border-color: transparent;\n",
              "      border-right-color: var(--fill-color);\n",
              "      border-top-color: var(--fill-color);\n",
              "    }\n",
              "    60% {\n",
              "      border-color: transparent;\n",
              "      border-right-color: var(--fill-color);\n",
              "    }\n",
              "    80% {\n",
              "      border-color: transparent;\n",
              "      border-right-color: var(--fill-color);\n",
              "      border-bottom-color: var(--fill-color);\n",
              "    }\n",
              "    90% {\n",
              "      border-color: transparent;\n",
              "      border-bottom-color: var(--fill-color);\n",
              "    }\n",
              "  }\n",
              "</style>\n",
              "\n",
              "  <script>\n",
              "    async function quickchart(key) {\n",
              "      const quickchartButtonEl =\n",
              "        document.querySelector('#' + key + ' button');\n",
              "      quickchartButtonEl.disabled = true;  // To prevent multiple clicks.\n",
              "      quickchartButtonEl.classList.add('colab-df-spinner');\n",
              "      try {\n",
              "        const charts = await google.colab.kernel.invokeFunction(\n",
              "            'suggestCharts', [key], {});\n",
              "      } catch (error) {\n",
              "        console.error('Error during call to suggestCharts:', error);\n",
              "      }\n",
              "      quickchartButtonEl.classList.remove('colab-df-spinner');\n",
              "      quickchartButtonEl.classList.add('colab-df-quickchart-complete');\n",
              "    }\n",
              "    (() => {\n",
              "      let quickchartButtonEl =\n",
              "        document.querySelector('#df-de2d6d80-0edc-48c0-ab99-2867ee3235f9 button');\n",
              "      quickchartButtonEl.style.display =\n",
              "        google.colab.kernel.accessAllowed ? 'block' : 'none';\n",
              "    })();\n",
              "  </script>\n",
              "</div>\n",
              "\n",
              "    </div>\n",
              "  </div>\n"
            ],
            "application/vnd.google.colaboratory.intrinsic+json": {
              "type": "dataframe",
              "variable_name": "merged_data",
              "summary": "{\n  \"name\": \"merged_data\",\n  \"rows\": 384,\n  \"fields\": [\n    {\n      \"column\": \"station_id\",\n      \"properties\": {\n        \"dtype\": \"category\",\n        \"num_unique_values\": 1,\n        \"samples\": [\n          \"NL00014\"\n        ],\n        \"semantic_type\": \"\",\n        \"description\": \"\"\n      }\n    },\n    {\n      \"column\": \"datetime\",\n      \"properties\": {\n        \"dtype\": \"date\",\n        \"min\": \"2024-09-04 00:00:00\",\n        \"max\": \"2024-09-06 23:00:00\",\n        \"num_unique_values\": 72,\n        \"samples\": [\n          \"2024-09-04 04:00:00\"\n        ],\n        \"semantic_type\": \"\",\n        \"description\": \"\"\n      }\n    },\n    {\n      \"column\": \"lead_time_hour\",\n      \"properties\": {\n        \"dtype\": \"number\",\n        \"std\": 13,\n        \"min\": 0,\n        \"max\": 47,\n        \"num_unique_values\": 48,\n        \"samples\": [\n          27\n        ],\n        \"semantic_type\": \"\",\n        \"description\": \"\"\n      }\n    },\n    {\n      \"column\": \"species\",\n      \"properties\": {\n        \"dtype\": \"category\",\n        \"num_unique_values\": 4,\n        \"samples\": [\n          \"O3\"\n        ],\n        \"semantic_type\": \"\",\n        \"description\": \"\"\n      }\n    },\n    {\n      \"column\": \"conc_mos_micrograms_per_m3\",\n      \"properties\": {\n        \"dtype\": \"number\",\n        \"std\": 28.868528570832385,\n        \"min\": 3.4,\n        \"max\": 111.7,\n        \"num_unique_values\": 249,\n        \"samples\": [\n          4.5\n        ],\n        \"semantic_type\": \"\",\n        \"description\": \"\"\n      }\n    },\n    {\n      \"column\": \"conc_raw_micrograms_per_m3\",\n      \"properties\": {\n        \"dtype\": \"number\",\n        \"std\": 25.126377441685392,\n        \"min\": 4.0,\n        \"max\": 120.6,\n        \"num_unique_values\": 269,\n        \"samples\": [\n          14.0\n        ],\n        \"semantic_type\": \"\",\n        \"description\": \"\"\n      }\n    }\n  ]\n}"
            }
          },
          "metadata": {},
          "execution_count": 27
        }
      ],
      "source": [
        "merged_data = merge_data(data)\n",
        "merged_data.head()"
      ]
    },
    {
      "cell_type": "markdown",
      "id": "43125eca-539a-47e9-ad23-d72fa899a4ee",
      "metadata": {
        "id": "43125eca-539a-47e9-ad23-d72fa899a4ee"
      },
      "source": [
        "The number of records for each station depends on the number of days from which we start the forecasts, the number of lead time periods, and the number of species that are monitored by that station"
      ]
    },
    {
      "cell_type": "code",
      "execution_count": 28,
      "id": "7634a676-c4fa-4728-8695-963615615df1",
      "metadata": {
        "id": "7634a676-c4fa-4728-8695-963615615df1",
        "outputId": "95afc9c4-00cd-47b1-d822-b55b3e9c429a",
        "colab": {
          "base_uri": "https://localhost:8080/"
        }
      },
      "outputs": [
        {
          "output_type": "stream",
          "name": "stdout",
          "text": [
            "Total number of records: 384\n"
          ]
        }
      ],
      "source": [
        "num_days = len(days)\n",
        "num_leadtime_hours = len(leadtime_periods) * 24\n",
        "num_species = len(merged_data.species.unique())\n",
        "num_records = num_days * num_leadtime_hours * num_species\n",
        "print('Total number of records: {:d}'.format(num_records))"
      ]
    },
    {
      "cell_type": "markdown",
      "id": "8d1dc906-4c9d-4059-a8b9-88bfc6ed17f6",
      "metadata": {
        "id": "8d1dc906-4c9d-4059-a8b9-88bfc6ed17f6"
      },
      "source": [
        "We can check that the number of records is what expected. In case the number is different it means that the station didn't provide observations for all the dates and lead time periods"
      ]
    },
    {
      "cell_type": "code",
      "execution_count": 29,
      "id": "1071fe81-494d-4dae-bc41-0b166c5bb276",
      "metadata": {
        "id": "1071fe81-494d-4dae-bc41-0b166c5bb276",
        "outputId": "bf75225c-e769-4f65-f214-bf4e68422fcd",
        "colab": {
          "base_uri": "https://localhost:8080/"
        }
      },
      "outputs": [
        {
          "output_type": "execute_result",
          "data": {
            "text/plain": [
              "True"
            ]
          },
          "metadata": {},
          "execution_count": 29
        }
      ],
      "source": [
        "merged_data.shape[0] == num_records"
      ]
    },
    {
      "cell_type": "markdown",
      "id": "ef418446-45a5-42e9-ade8-dc508b629a65",
      "metadata": {
        "id": "ef418446-45a5-42e9-ade8-dc508b629a65"
      },
      "source": [
        "## Data visualization"
      ]
    },
    {
      "cell_type": "code",
      "execution_count": 30,
      "id": "3576bb6a-c15f-4271-9383-68f044479524",
      "metadata": {
        "id": "3576bb6a-c15f-4271-9383-68f044479524"
      },
      "outputs": [],
      "source": [
        "style = {\n",
        "        'type': {\n",
        "            'raw': {'color': 'tab:blue'},\n",
        "            'mos': {'color': 'tab:orange'}\n",
        "        },\n",
        "        'leadtime_day': {\n",
        "            0: {'linestyle': 'solid'},\n",
        "            1: {'linestyle': 'dashed'}\n",
        "        }\n",
        "    }"
      ]
    },
    {
      "cell_type": "code",
      "execution_count": 31,
      "id": "4d560549-654a-4435-8921-57eabbb7abf6",
      "metadata": {
        "id": "4d560549-654a-4435-8921-57eabbb7abf6"
      },
      "outputs": [],
      "source": [
        "def prefs(type, leadtime, style):\n",
        "    \"\"\"Return pyplot.plot() keyword arguments for given type and leadtime\"\"\"\n",
        "    return {**style.get('type', {}).get(type, {}),\n",
        "            **style.get('leadtime_day', {}).get(leadtime, {})}"
      ]
    },
    {
      "cell_type": "code",
      "execution_count": 32,
      "id": "45c03cc1-908c-45d5-b7ec-7cd426ab379b",
      "metadata": {
        "id": "45c03cc1-908c-45d5-b7ec-7cd426ab379b"
      },
      "outputs": [],
      "source": [
        "def plot_species(station, data, style, ax):\n",
        "    \"\"\"Make a plot for one species at one station\"\"\"\n",
        "\n",
        "    allspecies = data.species.unique()\n",
        "    assert len(allspecies) == 1\n",
        "\n",
        "    # Plotting both raw and mos-corrected or just one?\n",
        "    types = [t for t in ['raw', 'mos']\n",
        "             if f'conc_{t}_micrograms_per_m3' in data.columns]\n",
        "\n",
        "    # Plot different lines for each post-processing type and lead time day\n",
        "    for type in types:\n",
        "        lead_time_day = data.lead_time_hour // 24\n",
        "        for day in lead_time_day.unique():\n",
        "            dt = data[lead_time_day == day]\n",
        "\n",
        "            ax.plot(dt.datetime, dt[f'conc_{type}_micrograms_per_m3'],\n",
        "                    label=f'{type} forecast D+{day}',\n",
        "                    **prefs(type, day, style))\n",
        "\n",
        "    # Nicer date labels\n",
        "    ax.xaxis.set_major_formatter(mdates.DateFormatter('%H\\n%a %d'))\n",
        "\n",
        "    ax.set_ylabel('$\\mu$g / m$^3$')\n",
        "\n",
        "    date_range = 'from ' + ' to '.join(data.datetime.iat[i].strftime('%Y-%m-%d')\n",
        "                                       for i in [0, -1])\n",
        "    ax.set_title(\n",
        "        ('{species} at {station} (lat={lat}, lon={lon}, altitude={alt}m)\\n'\n",
        "         '{dates}').format(species=allspecies[0],\n",
        "                           station=station.id,\n",
        "                           lat=station.lat,\n",
        "                           lon=station.lon,\n",
        "                           alt=station.alt,\n",
        "                           dates=date_range))\n",
        "\n",
        "    ax.legend()"
      ]
    },
    {
      "cell_type": "code",
      "execution_count": 33,
      "id": "9414bc05-68dd-4098-8fe9-5cfcc3fcdda7",
      "metadata": {
        "id": "9414bc05-68dd-4098-8fe9-5cfcc3fcdda7"
      },
      "outputs": [],
      "source": [
        "def station_plot(station, data, style):\n",
        "    \"\"\"Make a series of plots for a station - one for each species\"\"\"\n",
        "\n",
        "    # Species to plot\n",
        "    allspecies = data.species.unique()\n",
        "\n",
        "    # Create the figure\n",
        "    nplotsx = ceil(sqrt(len(allspecies)))\n",
        "    nplotsy = ceil(len(allspecies) / nplotsx)\n",
        "    fig = plt.figure(figsize=(nplotsx*8, nplotsy*5))\n",
        "    fig.subplots_adjust(hspace=0.35)\n",
        "\n",
        "    # Plot each species\n",
        "    for iplot, species in enumerate(allspecies):\n",
        "        ax = plt.subplot(nplotsy, nplotsx, iplot + 1)\n",
        "\n",
        "        # Extract data for just this species\n",
        "        sdata = data[data.species == species]\n",
        "\n",
        "        plot_species(station, sdata, style, ax)\n",
        "\n",
        "    plt.show()"
      ]
    },
    {
      "cell_type": "code",
      "execution_count": 34,
      "id": "0b5ea31f-1783-4305-a627-ef95856d3b02",
      "metadata": {
        "id": "0b5ea31f-1783-4305-a627-ef95856d3b02",
        "outputId": "db24f344-5212-4e74-b413-5c3487f38508",
        "colab": {
          "base_uri": "https://localhost:8080/",
          "height": 890
        }
      },
      "outputs": [
        {
          "output_type": "display_data",
          "data": {
            "text/plain": [
              "<Figure size 1600x1000 with 4 Axes>"
            ],
            "image/png": "[encoded data removed]"
          },
          "metadata": {}
        }
      ],
      "source": [
        "for station in merged_data.station_id.unique():\n",
        "\n",
        "    # Extract station metadata for just this site. If there's more than one\n",
        "    # entry we take the latest one that's valid within this time period\n",
        "    sdata = station_data.loc[\n",
        "            (station_data.id == station) &\n",
        "            (station_data.date_start <= merged_data.datetime.iloc[-1]) &\n",
        "            (station_data.date_end >= merged_data.datetime.iloc[0])\n",
        "    ]\n",
        "    assert len(sdata), 'No metadata for site?'\n",
        "    sdata = sdata.iloc[-1, :]\n",
        "\n",
        "    # Extract air quality data for just this site\n",
        "    adata = merged_data[merged_data.station_id == station]\n",
        "\n",
        "    if len(adata) > 0:\n",
        "        station_plot(sdata, adata, style)\n",
        "        #print('Data available for ' + station)\n",
        "    else:\n",
        "            print('No data for ' + station)"
      ]
    },
    {
      "cell_type": "markdown",
      "id": "13c29a0f-4f46-4a93-b819-04458a2c7a1e",
      "metadata": {
        "id": "13c29a0f-4f46-4a93-b819-04458a2c7a1e"
      },
      "source": [
        "## Average bias\n",
        "The raw data is also said \"biased\" and the MOS data is said \"unbiased\" or bias-corrected. We calculate the mean bias for $NO_2$ at one station by calculating the root mean squared error RMSE\n",
        "\n",
        "$$RMSE = \\sqrt {\\frac{1}{N} \\sum_{h=1}^{N}(MOS_h - RAW_h)^2 }$$\n",
        "\n",
        "where N is the number of hourly forecasts of a species."
      ]
    },
    {
      "cell_type": "code",
      "execution_count": 35,
      "id": "ebf65697-dbb0-4682-8a82-90a4b740188a",
      "metadata": {
        "id": "ebf65697-dbb0-4682-8a82-90a4b740188a",
        "outputId": "81e5405b-3828-47d1-e457-e1e2e0775dbe",
        "colab": {
          "base_uri": "https://localhost:8080/",
          "height": 143
        }
      },
      "outputs": [
        {
          "output_type": "execute_result",
          "data": {
            "text/plain": [
              "              datetime  conc_mos_micrograms_per_m3  conc_raw_micrograms_per_m3\n",
              "96 2024-09-04 00:00:00                         6.8                        16.6\n",
              "97 2024-09-04 01:00:00                         6.6                        16.0\n",
              "98 2024-09-04 02:00:00                        14.4                        18.1"
            ],
            "text/html": [
              "\n",
              "  <div id=\"df-3504acab-b165-4ec5-baa4-97c8e0fe998a\" class=\"colab-df-container\">\n",
              "    <div>\n",
              "<style scoped>\n",
              "    .dataframe tbody tr th:only-of-type {\n",
              "        vertical-align: middle;\n",
              "    }\n",
              "\n",
              "    .dataframe tbody tr th {\n",
              "        vertical-align: top;\n",
              "    }\n",
              "\n",
              "    .dataframe thead th {\n",
              "        text-align: right;\n",
              "    }\n",
              "</style>\n",
              "<table border=\"1\" class=\"dataframe\">\n",
              "  <thead>\n",
              "    <tr style=\"text-align: right;\">\n",
              "      <th></th>\n",
              "      <th>datetime</th>\n",
              "      <th>conc_mos_micrograms_per_m3</th>\n",
              "      <th>conc_raw_micrograms_per_m3</th>\n",
              "    </tr>\n",
              "  </thead>\n",
              "  <tbody>\n",
              "    <tr>\n",
              "      <th>96</th>\n",
              "      <td>2024-09-04 00:00:00</td>\n",
              "      <td>6.8</td>\n",
              "      <td>16.6</td>\n",
              "    </tr>\n",
              "    <tr>\n",
              "      <th>97</th>\n",
              "      <td>2024-09-04 01:00:00</td>\n",
              "      <td>6.6</td>\n",
              "      <td>16.0</td>\n",
              "    </tr>\n",
              "    <tr>\n",
              "      <th>98</th>\n",
              "      <td>2024-09-04 02:00:00</td>\n",
              "      <td>14.4</td>\n",
              "      <td>18.1</td>\n",
              "    </tr>\n",
              "  </tbody>\n",
              "</table>\n",
              "</div>\n",
              "    <div class=\"colab-df-buttons\">\n",
              "\n",
              "  <div class=\"colab-df-container\">\n",
              "    <button class=\"colab-df-convert\" onclick=\"convertToInteractive('df-3504acab-b165-4ec5-baa4-97c8e0fe998a')\"\n",
              "            title=\"Convert this dataframe to an interactive table.\"\n",
              "            style=\"display:none;\">\n",
              "\n",
              "  <svg xmlns=\"http://www.w3.org/2000/svg\" height=\"24px\" viewBox=\"0 -960 960 960\">\n",
              "    <path d=\"M120-120v-720h720v720H120Zm60-500h600v-160H180v160Zm220 220h160v-160H400v160Zm0 220h160v-160H400v160ZM180-400h160v-160H180v160Zm440 0h160v-160H620v160ZM180-180h160v-160H180v160Zm440 0h160v-160H620v160Z\"/>\n",
              "  </svg>\n",
              "    </button>\n",
              "\n",
              "  <style>\n",
              "    .colab-df-container {\n",
              "      display:flex;\n",
              "      gap: 12px;\n",
              "    }\n",
              "\n",
              "    .colab-df-convert {\n",
              "      background-color: #E8F0FE;\n",
              "      border: none;\n",
              "      border-radius: 50%;\n",
              "      cursor: pointer;\n",
              "      display: none;\n",
              "      fill: #1967D2;\n",
              "      height: 32px;\n",
              "      padding: 0 0 0 0;\n",
              "      width: 32px;\n",
              "    }\n",
              "\n",
              "    .colab-df-convert:hover {\n",
              "      background-color: #E2EBFA;\n",
              "      box-shadow: 0px 1px 2px rgba(60, 64, 67, 0.3), 0px 1px 3px 1px rgba(60, 64, 67, 0.15);\n",
              "      fill: #174EA6;\n",
              "    }\n",
              "\n",
              "    .colab-df-buttons div {\n",
              "      margin-bottom: 4px;\n",
              "    }\n",
              "\n",
              "    [theme=dark] .colab-df-convert {\n",
              "      background-color: #3B4455;\n",
              "      fill: #D2E3FC;\n",
              "    }\n",
              "\n",
              "    [theme=dark] .colab-df-convert:hover {\n",
              "      background-color: #434B5C;\n",
              "      box-shadow: 0px 1px 3px 1px rgba(0, 0, 0, 0.15);\n",
              "      filter: drop-shadow(0px 1px 2px rgba(0, 0, 0, 0.3));\n",
              "      fill: #FFFFFF;\n",
              "    }\n",
              "  </style>\n",
              "\n",
              "    <script>\n",
              "      const buttonEl =\n",
              "        document.querySelector('#df-3504acab-b165-4ec5-baa4-97c8e0fe998a button.colab-df-convert');\n",
              "      buttonEl.style.display =\n",
              "        google.colab.kernel.accessAllowed ? 'block' : 'none';\n",
              "\n",
              "      async function convertToInteractive(key) {\n",
              "        const element = document.querySelector('#df-3504acab-b165-4ec5-baa4-97c8e0fe998a');\n",
              "        const dataTable =\n",
              "          await google.colab.kernel.invokeFunction('convertToInteractive',\n",
              "                                                    [key], {});\n",
              "        if (!dataTable) return;\n",
              "\n",
              "        const docLinkHtml = 'Like what you see? Visit the ' +\n",
              "          '<a target=\"_blank\" href=https://colab.research.google.com/notebooks/data_table.ipynb>data table notebook</a>'\n",
              "          + ' to learn more about interactive tables.';\n",
              "        element.innerHTML = '';\n",
              "        dataTable['output_type'] = 'display_data';\n",
              "        await google.colab.output.renderOutput(dataTable, element);\n",
              "        const docLink = document.createElement('div');\n",
              "        docLink.innerHTML = docLinkHtml;\n",
              "        element.appendChild(docLink);\n",
              "      }\n",
              "    </script>\n",
              "  </div>\n",
              "\n",
              "\n",
              "<div id=\"df-9317ebf8-2f3f-4ee0-b4e5-0fc1d0477448\">\n",
              "  <button class=\"colab-df-quickchart\" onclick=\"quickchart('df-9317ebf8-2f3f-4ee0-b4e5-0fc1d0477448')\"\n",
              "            title=\"Suggest charts\"\n",
              "            style=\"display:none;\">\n",
              "\n",
              "<svg xmlns=\"http://www.w3.org/2000/svg\" height=\"24px\"viewBox=\"0 0 24 24\"\n",
              "     width=\"24px\">\n",
              "    <g>\n",
              "        <path d=\"M19 3H5c-1.1 0-2 .9-2 2v14c0 1.1.9 2 2 2h14c1.1 0 2-.9 2-2V5c0-1.1-.9-2-2-2zM9 17H7v-7h2v7zm4 0h-2V7h2v10zm4 0h-2v-4h2v4z\"/>\n",
              "    </g>\n",
              "</svg>\n",
              "  </button>\n",
              "\n",
              "<style>\n",
              "  .colab-df-quickchart {\n",
              "      --bg-color: #E8F0FE;\n",
              "      --fill-color: #1967D2;\n",
              "      --hover-bg-color: #E2EBFA;\n",
              "      --hover-fill-color: #174EA6;\n",
              "      --disabled-fill-color: #AAA;\n",
              "      --disabled-bg-color: #DDD;\n",
              "  }\n",
              "\n",
              "  [theme=dark] .colab-df-quickchart {\n",
              "      --bg-color: #3B4455;\n",
              "      --fill-color: #D2E3FC;\n",
              "      --hover-bg-color: #434B5C;\n",
              "      --hover-fill-color: #FFFFFF;\n",
              "      --disabled-bg-color: #3B4455;\n",
              "      --disabled-fill-color: #666;\n",
              "  }\n",
              "\n",
              "  .colab-df-quickchart {\n",
              "    background-color: var(--bg-color);\n",
              "    border: none;\n",
              "    border-radius: 50%;\n",
              "    cursor: pointer;\n",
              "    display: none;\n",
              "    fill: var(--fill-color);\n",
              "    height: 32px;\n",
              "    padding: 0;\n",
              "    width: 32px;\n",
              "  }\n",
              "\n",
              "  .colab-df-quickchart:hover {\n",
              "    background-color: var(--hover-bg-color);\n",
              "    box-shadow: 0 1px 2px rgba(60, 64, 67, 0.3), 0 1px 3px 1px rgba(60, 64, 67, 0.15);\n",
              "    fill: var(--button-hover-fill-color);\n",
              "  }\n",
              "\n",
              "  .colab-df-quickchart-complete:disabled,\n",
              "  .colab-df-quickchart-complete:disabled:hover {\n",
              "    background-color: var(--disabled-bg-color);\n",
              "    fill: var(--disabled-fill-color);\n",
              "    box-shadow: none;\n",
              "  }\n",
              "\n",
              "  .colab-df-spinner {\n",
              "    border: 2px solid var(--fill-color);\n",
              "    border-color: transparent;\n",
              "    border-bottom-color: var(--fill-color);\n",
              "    animation:\n",
              "      spin 1s steps(1) infinite;\n",
              "  }\n",
              "\n",
              "  @keyframes spin {\n",
              "    0% {\n",
              "      border-color: transparent;\n",
              "      border-bottom-color: var(--fill-color);\n",
              "      border-left-color: var(--fill-color);\n",
              "    }\n",
              "    20% {\n",
              "      border-color: transparent;\n",
              "      border-left-color: var(--fill-color);\n",
              "      border-top-color: var(--fill-color);\n",
              "    }\n",
              "    30% {\n",
              "      border-color: transparent;\n",
              "      border-left-color: var(--fill-color);\n",
              "      border-top-color: var(--fill-color);\n",
              "      border-right-color: var(--fill-color);\n",
              "    }\n",
              "    40% {\n",
              "      border-color: transparent;\n",
              "      border-right-color: var(--fill-color);\n",
              "      border-top-color: var(--fill-color);\n",
              "    }\n",
              "    60% {\n",
              "      border-color: transparent;\n",
              "      border-right-color: var(--fill-color);\n",
              "    }\n",
              "    80% {\n",
              "      border-color: transparent;\n",
              "      border-right-color: var(--fill-color);\n",
              "      border-bottom-color: var(--fill-color);\n",
              "    }\n",
              "    90% {\n",
              "      border-color: transparent;\n",
              "      border-bottom-color: var(--fill-color);\n",
              "    }\n",
              "  }\n",
              "</style>\n",
              "\n",
              "  <script>\n",
              "    async function quickchart(key) {\n",
              "      const quickchartButtonEl =\n",
              "        document.querySelector('#' + key + ' button');\n",
              "      quickchartButtonEl.disabled = true;  // To prevent multiple clicks.\n",
              "      quickchartButtonEl.classList.add('colab-df-spinner');\n",
              "      try {\n",
              "        const charts = await google.colab.kernel.invokeFunction(\n",
              "            'suggestCharts', [key], {});\n",
              "      } catch (error) {\n",
              "        console.error('Error during call to suggestCharts:', error);\n",
              "      }\n",
              "      quickchartButtonEl.classList.remove('colab-df-spinner');\n",
              "      quickchartButtonEl.classList.add('colab-df-quickchart-complete');\n",
              "    }\n",
              "    (() => {\n",
              "      let quickchartButtonEl =\n",
              "        document.querySelector('#df-9317ebf8-2f3f-4ee0-b4e5-0fc1d0477448 button');\n",
              "      quickchartButtonEl.style.display =\n",
              "        google.colab.kernel.accessAllowed ? 'block' : 'none';\n",
              "    })();\n",
              "  </script>\n",
              "</div>\n",
              "\n",
              "    </div>\n",
              "  </div>\n"
            ],
            "application/vnd.google.colaboratory.intrinsic+json": {
              "type": "dataframe",
              "variable_name": "station_pm10",
              "summary": "{\n  \"name\": \"station_pm10\",\n  \"rows\": 96,\n  \"fields\": [\n    {\n      \"column\": \"datetime\",\n      \"properties\": {\n        \"dtype\": \"date\",\n        \"min\": \"2024-09-04 00:00:00\",\n        \"max\": \"2024-09-06 23:00:00\",\n        \"num_unique_values\": 72,\n        \"samples\": [\n          \"2024-09-04 04:00:00\",\n          \"2024-09-06 14:00:00\",\n          \"2024-09-04 18:00:00\"\n        ],\n        \"semantic_type\": \"\",\n        \"description\": \"\"\n      }\n    },\n    {\n      \"column\": \"conc_mos_micrograms_per_m3\",\n      \"properties\": {\n        \"dtype\": \"number\",\n        \"std\": 9.459748290483116,\n        \"min\": 6.6,\n        \"max\": 38.7,\n        \"num_unique_values\": 86,\n        \"samples\": [\n          35.1,\n          6.8,\n          32.1\n        ],\n        \"semantic_type\": \"\",\n        \"description\": \"\"\n      }\n    },\n    {\n      \"column\": \"conc_raw_micrograms_per_m3\",\n      \"properties\": {\n        \"dtype\": \"number\",\n        \"std\": 7.682906236940162,\n        \"min\": 8.5,\n        \"max\": 37.2,\n        \"num_unique_values\": 79,\n        \"samples\": [\n          14.4,\n          16.6,\n          20.7\n        ],\n        \"semantic_type\": \"\",\n        \"description\": \"\"\n      }\n    }\n  ]\n}"
            }
          },
          "metadata": {},
          "execution_count": 35
        }
      ],
      "source": [
        "station_pm10 = merged_data[ (merged_data['species'] == 'PM10')  &\n",
        "              (merged_data['station_id'] == 'NL00014') ] \\\n",
        "              .drop(['station_id', 'lead_time_hour', 'species'], axis=1).sort_values(by=['datetime'])\n",
        "station_pm10.head(3)"
      ]
    },
    {
      "cell_type": "code",
      "execution_count": 36,
      "id": "0c5ed75e-235f-42cc-9440-def546f03836",
      "metadata": {
        "id": "0c5ed75e-235f-42cc-9440-def546f03836",
        "outputId": "529e76e6-5d9c-4da6-8430-9c9860ea3c4a",
        "colab": {
          "base_uri": "https://localhost:8080/"
        }
      },
      "outputs": [
        {
          "output_type": "stream",
          "name": "stdout",
          "text": [
            "Average PM10 Raw-MOS-optimised bias: 5.59 micrograms/m3\n"
          ]
        }
      ],
      "source": [
        "pm10_conc_mos_micrograms_per_m3 = station_pm10.conc_mos_micrograms_per_m3\n",
        "pm10_conc_raw_micrograms_per_m3 = station_pm10.conc_raw_micrograms_per_m3\n",
        "pm10_bias = pm10_conc_mos_micrograms_per_m3 - pm10_conc_raw_micrograms_per_m3\n",
        "squared_pm10_bias = pm10_bias ** 2\n",
        "rmse = math.sqrt(squared_pm10_bias.mean())\n",
        "print('Average PM10 Raw-MOS-optimised bias: {:.2f} micrograms/m3'.format(rmse))"
      ]
    },
    {
      "cell_type": "code",
      "execution_count": 37,
      "id": "510fe2a1-75b9-4aea-ab2b-3988f2206790",
      "metadata": {
        "id": "510fe2a1-75b9-4aea-ab2b-3988f2206790",
        "outputId": "7f67628b-4e8d-4e6b-e254-450267221f4f",
        "colab": {
          "base_uri": "https://localhost:8080/",
          "height": 175
        }
      },
      "outputs": [
        {
          "output_type": "execute_result",
          "data": {
            "text/plain": [
              "                     conc_mos_micrograms_per_m3  conc_raw_micrograms_per_m3\n",
              "datetime                                                                   \n",
              "2024-09-04 00:00:00                         6.8                        16.6\n",
              "2024-09-04 01:00:00                         6.6                        16.0\n",
              "2024-09-04 02:00:00                        14.4                        18.1"
            ],
            "text/html": [
              "\n",
              "  <div id=\"df-955fbdc7-8d2b-42e4-b8c3-a8c282b3d6b3\" class=\"colab-df-container\">\n",
              "    <div>\n",
              "<style scoped>\n",
              "    .dataframe tbody tr th:only-of-type {\n",
              "        vertical-align: middle;\n",
              "    }\n",
              "\n",
              "    .dataframe tbody tr th {\n",
              "        vertical-align: top;\n",
              "    }\n",
              "\n",
              "    .dataframe thead th {\n",
              "        text-align: right;\n",
              "    }\n",
              "</style>\n",
              "<table border=\"1\" class=\"dataframe\">\n",
              "  <thead>\n",
              "    <tr style=\"text-align: right;\">\n",
              "      <th></th>\n",
              "      <th>conc_mos_micrograms_per_m3</th>\n",
              "      <th>conc_raw_micrograms_per_m3</th>\n",
              "    </tr>\n",
              "    <tr>\n",
              "      <th>datetime</th>\n",
              "      <th></th>\n",
              "      <th></th>\n",
              "    </tr>\n",
              "  </thead>\n",
              "  <tbody>\n",
              "    <tr>\n",
              "      <th>2024-09-04 00:00:00</th>\n",
              "      <td>6.8</td>\n",
              "      <td>16.6</td>\n",
              "    </tr>\n",
              "    <tr>\n",
              "      <th>2024-09-04 01:00:00</th>\n",
              "      <td>6.6</td>\n",
              "      <td>16.0</td>\n",
              "    </tr>\n",
              "    <tr>\n",
              "      <th>2024-09-04 02:00:00</th>\n",
              "      <td>14.4</td>\n",
              "      <td>18.1</td>\n",
              "    </tr>\n",
              "  </tbody>\n",
              "</table>\n",
              "</div>\n",
              "    <div class=\"colab-df-buttons\">\n",
              "\n",
              "  <div class=\"colab-df-container\">\n",
              "    <button class=\"colab-df-convert\" onclick=\"convertToInteractive('df-955fbdc7-8d2b-42e4-b8c3-a8c282b3d6b3')\"\n",
              "            title=\"Convert this dataframe to an interactive table.\"\n",
              "            style=\"display:none;\">\n",
              "\n",
              "  <svg xmlns=\"http://www.w3.org/2000/svg\" height=\"24px\" viewBox=\"0 -960 960 960\">\n",
              "    <path d=\"M120-120v-720h720v720H120Zm60-500h600v-160H180v160Zm220 220h160v-160H400v160Zm0 220h160v-160H400v160ZM180-400h160v-160H180v160Zm440 0h160v-160H620v160ZM180-180h160v-160H180v160Zm440 0h160v-160H620v160Z\"/>\n",
              "  </svg>\n",
              "    </button>\n",
              "\n",
              "  <style>\n",
              "    .colab-df-container {\n",
              "      display:flex;\n",
              "      gap: 12px;\n",
              "    }\n",
              "\n",
              "    .colab-df-convert {\n",
              "      background-color: #E8F0FE;\n",
              "      border: none;\n",
              "      border-radius: 50%;\n",
              "      cursor: pointer;\n",
              "      display: none;\n",
              "      fill: #1967D2;\n",
              "      height: 32px;\n",
              "      padding: 0 0 0 0;\n",
              "      width: 32px;\n",
              "    }\n",
              "\n",
              "    .colab-df-convert:hover {\n",
              "      background-color: #E2EBFA;\n",
              "      box-shadow: 0px 1px 2px rgba(60, 64, 67, 0.3), 0px 1px 3px 1px rgba(60, 64, 67, 0.15);\n",
              "      fill: #174EA6;\n",
              "    }\n",
              "\n",
              "    .colab-df-buttons div {\n",
              "      margin-bottom: 4px;\n",
              "    }\n",
              "\n",
              "    [theme=dark] .colab-df-convert {\n",
              "      background-color: #3B4455;\n",
              "      fill: #D2E3FC;\n",
              "    }\n",
              "\n",
              "    [theme=dark] .colab-df-convert:hover {\n",
              "      background-color: #434B5C;\n",
              "      box-shadow: 0px 1px 3px 1px rgba(0, 0, 0, 0.15);\n",
              "      filter: drop-shadow(0px 1px 2px rgba(0, 0, 0, 0.3));\n",
              "      fill: #FFFFFF;\n",
              "    }\n",
              "  </style>\n",
              "\n",
              "    <script>\n",
              "      const buttonEl =\n",
              "        document.querySelector('#df-955fbdc7-8d2b-42e4-b8c3-a8c282b3d6b3 button.colab-df-convert');\n",
              "      buttonEl.style.display =\n",
              "        google.colab.kernel.accessAllowed ? 'block' : 'none';\n",
              "\n",
              "      async function convertToInteractive(key) {\n",
              "        const element = document.querySelector('#df-955fbdc7-8d2b-42e4-b8c3-a8c282b3d6b3');\n",
              "        const dataTable =\n",
              "          await google.colab.kernel.invokeFunction('convertToInteractive',\n",
              "                                                    [key], {});\n",
              "        if (!dataTable) return;\n",
              "\n",
              "        const docLinkHtml = 'Like what you see? Visit the ' +\n",
              "          '<a target=\"_blank\" href=https://colab.research.google.com/notebooks/data_table.ipynb>data table notebook</a>'\n",
              "          + ' to learn more about interactive tables.';\n",
              "        element.innerHTML = '';\n",
              "        dataTable['output_type'] = 'display_data';\n",
              "        await google.colab.output.renderOutput(dataTable, element);\n",
              "        const docLink = document.createElement('div');\n",
              "        docLink.innerHTML = docLinkHtml;\n",
              "        element.appendChild(docLink);\n",
              "      }\n",
              "    </script>\n",
              "  </div>\n",
              "\n",
              "\n",
              "<div id=\"df-2885c71f-bf40-4764-b0d2-6a70792e06c2\">\n",
              "  <button class=\"colab-df-quickchart\" onclick=\"quickchart('df-2885c71f-bf40-4764-b0d2-6a70792e06c2')\"\n",
              "            title=\"Suggest charts\"\n",
              "            style=\"display:none;\">\n",
              "\n",
              "<svg xmlns=\"http://www.w3.org/2000/svg\" height=\"24px\"viewBox=\"0 0 24 24\"\n",
              "     width=\"24px\">\n",
              "    <g>\n",
              "        <path d=\"M19 3H5c-1.1 0-2 .9-2 2v14c0 1.1.9 2 2 2h14c1.1 0 2-.9 2-2V5c0-1.1-.9-2-2-2zM9 17H7v-7h2v7zm4 0h-2V7h2v10zm4 0h-2v-4h2v4z\"/>\n",
              "    </g>\n",
              "</svg>\n",
              "  </button>\n",
              "\n",
              "<style>\n",
              "  .colab-df-quickchart {\n",
              "      --bg-color: #E8F0FE;\n",
              "      --fill-color: #1967D2;\n",
              "      --hover-bg-color: #E2EBFA;\n",
              "      --hover-fill-color: #174EA6;\n",
              "      --disabled-fill-color: #AAA;\n",
              "      --disabled-bg-color: #DDD;\n",
              "  }\n",
              "\n",
              "  [theme=dark] .colab-df-quickchart {\n",
              "      --bg-color: #3B4455;\n",
              "      --fill-color: #D2E3FC;\n",
              "      --hover-bg-color: #434B5C;\n",
              "      --hover-fill-color: #FFFFFF;\n",
              "      --disabled-bg-color: #3B4455;\n",
              "      --disabled-fill-color: #666;\n",
              "  }\n",
              "\n",
              "  .colab-df-quickchart {\n",
              "    background-color: var(--bg-color);\n",
              "    border: none;\n",
              "    border-radius: 50%;\n",
              "    cursor: pointer;\n",
              "    display: none;\n",
              "    fill: var(--fill-color);\n",
              "    height: 32px;\n",
              "    padding: 0;\n",
              "    width: 32px;\n",
              "  }\n",
              "\n",
              "  .colab-df-quickchart:hover {\n",
              "    background-color: var(--hover-bg-color);\n",
              "    box-shadow: 0 1px 2px rgba(60, 64, 67, 0.3), 0 1px 3px 1px rgba(60, 64, 67, 0.15);\n",
              "    fill: var(--button-hover-fill-color);\n",
              "  }\n",
              "\n",
              "  .colab-df-quickchart-complete:disabled,\n",
              "  .colab-df-quickchart-complete:disabled:hover {\n",
              "    background-color: var(--disabled-bg-color);\n",
              "    fill: var(--disabled-fill-color);\n",
              "    box-shadow: none;\n",
              "  }\n",
              "\n",
              "  .colab-df-spinner {\n",
              "    border: 2px solid var(--fill-color);\n",
              "    border-color: transparent;\n",
              "    border-bottom-color: var(--fill-color);\n",
              "    animation:\n",
              "      spin 1s steps(1) infinite;\n",
              "  }\n",
              "\n",
              "  @keyframes spin {\n",
              "    0% {\n",
              "      border-color: transparent;\n",
              "      border-bottom-color: var(--fill-color);\n",
              "      border-left-color: var(--fill-color);\n",
              "    }\n",
              "    20% {\n",
              "      border-color: transparent;\n",
              "      border-left-color: var(--fill-color);\n",
              "      border-top-color: var(--fill-color);\n",
              "    }\n",
              "    30% {\n",
              "      border-color: transparent;\n",
              "      border-left-color: var(--fill-color);\n",
              "      border-top-color: var(--fill-color);\n",
              "      border-right-color: var(--fill-color);\n",
              "    }\n",
              "    40% {\n",
              "      border-color: transparent;\n",
              "      border-right-color: var(--fill-color);\n",
              "      border-top-color: var(--fill-color);\n",
              "    }\n",
              "    60% {\n",
              "      border-color: transparent;\n",
              "      border-right-color: var(--fill-color);\n",
              "    }\n",
              "    80% {\n",
              "      border-color: transparent;\n",
              "      border-right-color: var(--fill-color);\n",
              "      border-bottom-color: var(--fill-color);\n",
              "    }\n",
              "    90% {\n",
              "      border-color: transparent;\n",
              "      border-bottom-color: var(--fill-color);\n",
              "    }\n",
              "  }\n",
              "</style>\n",
              "\n",
              "  <script>\n",
              "    async function quickchart(key) {\n",
              "      const quickchartButtonEl =\n",
              "        document.querySelector('#' + key + ' button');\n",
              "      quickchartButtonEl.disabled = true;  // To prevent multiple clicks.\n",
              "      quickchartButtonEl.classList.add('colab-df-spinner');\n",
              "      try {\n",
              "        const charts = await google.colab.kernel.invokeFunction(\n",
              "            'suggestCharts', [key], {});\n",
              "      } catch (error) {\n",
              "        console.error('Error during call to suggestCharts:', error);\n",
              "      }\n",
              "      quickchartButtonEl.classList.remove('colab-df-spinner');\n",
              "      quickchartButtonEl.classList.add('colab-df-quickchart-complete');\n",
              "    }\n",
              "    (() => {\n",
              "      let quickchartButtonEl =\n",
              "        document.querySelector('#df-2885c71f-bf40-4764-b0d2-6a70792e06c2 button');\n",
              "      quickchartButtonEl.style.display =\n",
              "        google.colab.kernel.accessAllowed ? 'block' : 'none';\n",
              "    })();\n",
              "  </script>\n",
              "</div>\n",
              "\n",
              "    </div>\n",
              "  </div>\n"
            ],
            "application/vnd.google.colaboratory.intrinsic+json": {
              "type": "dataframe",
              "variable_name": "station_pm10_time_index",
              "summary": "{\n  \"name\": \"station_pm10_time_index\",\n  \"rows\": 96,\n  \"fields\": [\n    {\n      \"column\": \"datetime\",\n      \"properties\": {\n        \"dtype\": \"date\",\n        \"min\": \"2024-09-04 00:00:00\",\n        \"max\": \"2024-09-06 23:00:00\",\n        \"num_unique_values\": 72,\n        \"samples\": [\n          \"2024-09-04 04:00:00\",\n          \"2024-09-06 14:00:00\",\n          \"2024-09-04 18:00:00\"\n        ],\n        \"semantic_type\": \"\",\n        \"description\": \"\"\n      }\n    },\n    {\n      \"column\": \"conc_mos_micrograms_per_m3\",\n      \"properties\": {\n        \"dtype\": \"number\",\n        \"std\": 9.459748290483116,\n        \"min\": 6.6,\n        \"max\": 38.7,\n        \"num_unique_values\": 86,\n        \"samples\": [\n          35.1,\n          6.8,\n          32.1\n        ],\n        \"semantic_type\": \"\",\n        \"description\": \"\"\n      }\n    },\n    {\n      \"column\": \"conc_raw_micrograms_per_m3\",\n      \"properties\": {\n        \"dtype\": \"number\",\n        \"std\": 7.682906236940162,\n        \"min\": 8.5,\n        \"max\": 37.2,\n        \"num_unique_values\": 79,\n        \"samples\": [\n          14.4,\n          16.6,\n          20.7\n        ],\n        \"semantic_type\": \"\",\n        \"description\": \"\"\n      }\n    }\n  ]\n}"
            }
          },
          "metadata": {},
          "execution_count": 37
        }
      ],
      "source": [
        "date_index = pd.to_datetime(station_pm10['datetime'])\n",
        "station_pm10_time_index = station_pm10.set_index(date_index).drop(['datetime'], axis=1)\n",
        "station_pm10_time_index.head(3)"
      ]
    },
    {
      "cell_type": "code",
      "execution_count": 38,
      "id": "c3c887a7-fed2-4fdf-8ecd-1a1daff427b7",
      "metadata": {
        "id": "c3c887a7-fed2-4fdf-8ecd-1a1daff427b7",
        "outputId": "15a969f4-6006-421e-d57c-6e00f1bcf999",
        "colab": {
          "base_uri": "https://localhost:8080/",
          "height": 581
        }
      },
      "outputs": [
        {
          "output_type": "execute_result",
          "data": {
            "text/plain": [
              "[<matplotlib.lines.Line2D at 0x7a82c707e860>]"
            ]
          },
          "metadata": {},
          "execution_count": 38
        },
        {
          "output_type": "display_data",
          "data": {
            "text/plain": [
              "<Figure size 1200x600 with 1 Axes>"
            ],
            "image/png": "[encoded data removed]"
          },
          "metadata": {}
        }
      ],
      "source": [
        "fig = plt.figure(figsize=(12, 6))\n",
        "ax = fig.add_subplot()\n",
        "ax.grid(True, which='both')\n",
        "ax.set_title(\"MOS-optimised PM10 Forecasts\")\n",
        "ax.set_xlabel(\"day\")\n",
        "ax.set_ylabel(\"$\\mu gm^{-3}$\");\n",
        "#ax.set_xticks(week_index)\n",
        "#ax.set_xticklabels(week_index, rotation=70)\n",
        "#ax.xaxis.set_major_formatter(mdates.DateFormatter('%Y-%m-%d'))\n",
        "pm_10_mos = station_pm10_time_index['conc_mos_micrograms_per_m3']\n",
        "pm10_raw = station_pm10_time_index['conc_raw_micrograms_per_m3']\n",
        "plt_giss_error = ax.fill_between(pm_10_mos.index, pm_10_mos - rmse, pm_10_mos + rmse, alpha=0.2)\n",
        "plt.plot(pm_10_mos)"
      ]
    },
    {
      "cell_type": "markdown",
      "id": "92ee60f6-9880-418c-a1cf-a83f5863f50f",
      "metadata": {
        "id": "92ee60f6-9880-418c-a1cf-a83f5863f50f"
      },
      "source": [
        "## Number of daily max concentration\n",
        "We calculate the number of daily maximum concentration of PM10 above 130 $\\mu gm^{-3}$ for the MOS and and the raw ensemble forecasts."
      ]
    },
    {
      "cell_type": "code",
      "execution_count": 39,
      "id": "ce93c182-eae5-46d0-adbb-aad37b940096",
      "metadata": {
        "id": "ce93c182-eae5-46d0-adbb-aad37b940096"
      },
      "outputs": [],
      "source": [
        "pm10_max_concentration_threshold = 26.5"
      ]
    },
    {
      "cell_type": "code",
      "execution_count": 40,
      "id": "c30ee548-318f-44ad-a881-2a5faec72836",
      "metadata": {
        "id": "c30ee548-318f-44ad-a881-2a5faec72836",
        "outputId": "09379753-76cb-4868-e52c-0562019cc63c",
        "colab": {
          "base_uri": "https://localhost:8080/"
        }
      },
      "outputs": [
        {
          "output_type": "execute_result",
          "data": {
            "text/plain": [
              "38.7"
            ]
          },
          "metadata": {},
          "execution_count": 40
        }
      ],
      "source": [
        "station_pm10_mos_max = station_pm10.conc_mos_micrograms_per_m3.max()\n",
        "station_pm10_mos_max"
      ]
    },
    {
      "cell_type": "code",
      "execution_count": 41,
      "id": "2e07501d-33a1-4855-aa7d-888153b94a82",
      "metadata": {
        "id": "2e07501d-33a1-4855-aa7d-888153b94a82",
        "outputId": "39e2ba2c-c460-4a1a-acd7-923c3eb4e896",
        "colab": {
          "base_uri": "https://localhost:8080/"
        }
      },
      "outputs": [
        {
          "output_type": "execute_result",
          "data": {
            "text/plain": [
              "37.2"
            ]
          },
          "metadata": {},
          "execution_count": 41
        }
      ],
      "source": [
        "station_pm10_raw_max = station_pm10.conc_raw_micrograms_per_m3.max()\n",
        "station_pm10_raw_max"
      ]
    },
    {
      "cell_type": "code",
      "execution_count": 42,
      "id": "91edcc14-004e-4a61-a3e8-8f2d9006cf4d",
      "metadata": {
        "id": "91edcc14-004e-4a61-a3e8-8f2d9006cf4d",
        "outputId": "0eca06ce-cfee-4a25-ba25-1aec07e7f0e2",
        "colab": {
          "base_uri": "https://localhost:8080/",
          "height": 175
        }
      },
      "outputs": [
        {
          "output_type": "execute_result",
          "data": {
            "text/plain": [
              "            conc_mos_micrograms_per_m3  conc_raw_micrograms_per_m3\n",
              "datetime                                                          \n",
              "2024-09-04                        16.5                        29.3\n",
              "2024-09-05                        38.7                        37.2\n",
              "2024-09-06                        35.9                        34.3"
            ],
            "text/html": [
              "\n",
              "  <div id=\"df-f7115642-70f9-4d41-b1a8-007eefb57829\" class=\"colab-df-container\">\n",
              "    <div>\n",
              "<style scoped>\n",
              "    .dataframe tbody tr th:only-of-type {\n",
              "        vertical-align: middle;\n",
              "    }\n",
              "\n",
              "    .dataframe tbody tr th {\n",
              "        vertical-align: top;\n",
              "    }\n",
              "\n",
              "    .dataframe thead th {\n",
              "        text-align: right;\n",
              "    }\n",
              "</style>\n",
              "<table border=\"1\" class=\"dataframe\">\n",
              "  <thead>\n",
              "    <tr style=\"text-align: right;\">\n",
              "      <th></th>\n",
              "      <th>conc_mos_micrograms_per_m3</th>\n",
              "      <th>conc_raw_micrograms_per_m3</th>\n",
              "    </tr>\n",
              "    <tr>\n",
              "      <th>datetime</th>\n",
              "      <th></th>\n",
              "      <th></th>\n",
              "    </tr>\n",
              "  </thead>\n",
              "  <tbody>\n",
              "    <tr>\n",
              "      <th>2024-09-04</th>\n",
              "      <td>16.5</td>\n",
              "      <td>29.3</td>\n",
              "    </tr>\n",
              "    <tr>\n",
              "      <th>2024-09-05</th>\n",
              "      <td>38.7</td>\n",
              "      <td>37.2</td>\n",
              "    </tr>\n",
              "    <tr>\n",
              "      <th>2024-09-06</th>\n",
              "      <td>35.9</td>\n",
              "      <td>34.3</td>\n",
              "    </tr>\n",
              "  </tbody>\n",
              "</table>\n",
              "</div>\n",
              "    <div class=\"colab-df-buttons\">\n",
              "\n",
              "  <div class=\"colab-df-container\">\n",
              "    <button class=\"colab-df-convert\" onclick=\"convertToInteractive('df-f7115642-70f9-4d41-b1a8-007eefb57829')\"\n",
              "            title=\"Convert this dataframe to an interactive table.\"\n",
              "            style=\"display:none;\">\n",
              "\n",
              "  <svg xmlns=\"http://www.w3.org/2000/svg\" height=\"24px\" viewBox=\"0 -960 960 960\">\n",
              "    <path d=\"M120-120v-720h720v720H120Zm60-500h600v-160H180v160Zm220 220h160v-160H400v160Zm0 220h160v-160H400v160ZM180-400h160v-160H180v160Zm440 0h160v-160H620v160ZM180-180h160v-160H180v160Zm440 0h160v-160H620v160Z\"/>\n",
              "  </svg>\n",
              "    </button>\n",
              "\n",
              "  <style>\n",
              "    .colab-df-container {\n",
              "      display:flex;\n",
              "      gap: 12px;\n",
              "    }\n",
              "\n",
              "    .colab-df-convert {\n",
              "      background-color: #E8F0FE;\n",
              "      border: none;\n",
              "      border-radius: 50%;\n",
              "      cursor: pointer;\n",
              "      display: none;\n",
              "      fill: #1967D2;\n",
              "      height: 32px;\n",
              "      padding: 0 0 0 0;\n",
              "      width: 32px;\n",
              "    }\n",
              "\n",
              "    .colab-df-convert:hover {\n",
              "      background-color: #E2EBFA;\n",
              "      box-shadow: 0px 1px 2px rgba(60, 64, 67, 0.3), 0px 1px 3px 1px rgba(60, 64, 67, 0.15);\n",
              "      fill: #174EA6;\n",
              "    }\n",
              "\n",
              "    .colab-df-buttons div {\n",
              "      margin-bottom: 4px;\n",
              "    }\n",
              "\n",
              "    [theme=dark] .colab-df-convert {\n",
              "      background-color: #3B4455;\n",
              "      fill: #D2E3FC;\n",
              "    }\n",
              "\n",
              "    [theme=dark] .colab-df-convert:hover {\n",
              "      background-color: #434B5C;\n",
              "      box-shadow: 0px 1px 3px 1px rgba(0, 0, 0, 0.15);\n",
              "      filter: drop-shadow(0px 1px 2px rgba(0, 0, 0, 0.3));\n",
              "      fill: #FFFFFF;\n",
              "    }\n",
              "  </style>\n",
              "\n",
              "    <script>\n",
              "      const buttonEl =\n",
              "        document.querySelector('#df-f7115642-70f9-4d41-b1a8-007eefb57829 button.colab-df-convert');\n",
              "      buttonEl.style.display =\n",
              "        google.colab.kernel.accessAllowed ? 'block' : 'none';\n",
              "\n",
              "      async function convertToInteractive(key) {\n",
              "        const element = document.querySelector('#df-f7115642-70f9-4d41-b1a8-007eefb57829');\n",
              "        const dataTable =\n",
              "          await google.colab.kernel.invokeFunction('convertToInteractive',\n",
              "                                                    [key], {});\n",
              "        if (!dataTable) return;\n",
              "\n",
              "        const docLinkHtml = 'Like what you see? Visit the ' +\n",
              "          '<a target=\"_blank\" href=https://colab.research.google.com/notebooks/data_table.ipynb>data table notebook</a>'\n",
              "          + ' to learn more about interactive tables.';\n",
              "        element.innerHTML = '';\n",
              "        dataTable['output_type'] = 'display_data';\n",
              "        await google.colab.output.renderOutput(dataTable, element);\n",
              "        const docLink = document.createElement('div');\n",
              "        docLink.innerHTML = docLinkHtml;\n",
              "        element.appendChild(docLink);\n",
              "      }\n",
              "    </script>\n",
              "  </div>\n",
              "\n",
              "\n",
              "<div id=\"df-7080e19b-1886-41f9-8aa4-ac54220f63f3\">\n",
              "  <button class=\"colab-df-quickchart\" onclick=\"quickchart('df-7080e19b-1886-41f9-8aa4-ac54220f63f3')\"\n",
              "            title=\"Suggest charts\"\n",
              "            style=\"display:none;\">\n",
              "\n",
              "<svg xmlns=\"http://www.w3.org/2000/svg\" height=\"24px\"viewBox=\"0 0 24 24\"\n",
              "     width=\"24px\">\n",
              "    <g>\n",
              "        <path d=\"M19 3H5c-1.1 0-2 .9-2 2v14c0 1.1.9 2 2 2h14c1.1 0 2-.9 2-2V5c0-1.1-.9-2-2-2zM9 17H7v-7h2v7zm4 0h-2V7h2v10zm4 0h-2v-4h2v4z\"/>\n",
              "    </g>\n",
              "</svg>\n",
              "  </button>\n",
              "\n",
              "<style>\n",
              "  .colab-df-quickchart {\n",
              "      --bg-color: #E8F0FE;\n",
              "      --fill-color: #1967D2;\n",
              "      --hover-bg-color: #E2EBFA;\n",
              "      --hover-fill-color: #174EA6;\n",
              "      --disabled-fill-color: #AAA;\n",
              "      --disabled-bg-color: #DDD;\n",
              "  }\n",
              "\n",
              "  [theme=dark] .colab-df-quickchart {\n",
              "      --bg-color: #3B4455;\n",
              "      --fill-color: #D2E3FC;\n",
              "      --hover-bg-color: #434B5C;\n",
              "      --hover-fill-color: #FFFFFF;\n",
              "      --disabled-bg-color: #3B4455;\n",
              "      --disabled-fill-color: #666;\n",
              "  }\n",
              "\n",
              "  .colab-df-quickchart {\n",
              "    background-color: var(--bg-color);\n",
              "    border: none;\n",
              "    border-radius: 50%;\n",
              "    cursor: pointer;\n",
              "    display: none;\n",
              "    fill: var(--fill-color);\n",
              "    height: 32px;\n",
              "    padding: 0;\n",
              "    width: 32px;\n",
              "  }\n",
              "\n",
              "  .colab-df-quickchart:hover {\n",
              "    background-color: var(--hover-bg-color);\n",
              "    box-shadow: 0 1px 2px rgba(60, 64, 67, 0.3), 0 1px 3px 1px rgba(60, 64, 67, 0.15);\n",
              "    fill: var(--button-hover-fill-color);\n",
              "  }\n",
              "\n",
              "  .colab-df-quickchart-complete:disabled,\n",
              "  .colab-df-quickchart-complete:disabled:hover {\n",
              "    background-color: var(--disabled-bg-color);\n",
              "    fill: var(--disabled-fill-color);\n",
              "    box-shadow: none;\n",
              "  }\n",
              "\n",
              "  .colab-df-spinner {\n",
              "    border: 2px solid var(--fill-color);\n",
              "    border-color: transparent;\n",
              "    border-bottom-color: var(--fill-color);\n",
              "    animation:\n",
              "      spin 1s steps(1) infinite;\n",
              "  }\n",
              "\n",
              "  @keyframes spin {\n",
              "    0% {\n",
              "      border-color: transparent;\n",
              "      border-bottom-color: var(--fill-color);\n",
              "      border-left-color: var(--fill-color);\n",
              "    }\n",
              "    20% {\n",
              "      border-color: transparent;\n",
              "      border-left-color: var(--fill-color);\n",
              "      border-top-color: var(--fill-color);\n",
              "    }\n",
              "    30% {\n",
              "      border-color: transparent;\n",
              "      border-left-color: var(--fill-color);\n",
              "      border-top-color: var(--fill-color);\n",
              "      border-right-color: var(--fill-color);\n",
              "    }\n",
              "    40% {\n",
              "      border-color: transparent;\n",
              "      border-right-color: var(--fill-color);\n",
              "      border-top-color: var(--fill-color);\n",
              "    }\n",
              "    60% {\n",
              "      border-color: transparent;\n",
              "      border-right-color: var(--fill-color);\n",
              "    }\n",
              "    80% {\n",
              "      border-color: transparent;\n",
              "      border-right-color: var(--fill-color);\n",
              "      border-bottom-color: var(--fill-color);\n",
              "    }\n",
              "    90% {\n",
              "      border-color: transparent;\n",
              "      border-bottom-color: var(--fill-color);\n",
              "    }\n",
              "  }\n",
              "</style>\n",
              "\n",
              "  <script>\n",
              "    async function quickchart(key) {\n",
              "      const quickchartButtonEl =\n",
              "        document.querySelector('#' + key + ' button');\n",
              "      quickchartButtonEl.disabled = true;  // To prevent multiple clicks.\n",
              "      quickchartButtonEl.classList.add('colab-df-spinner');\n",
              "      try {\n",
              "        const charts = await google.colab.kernel.invokeFunction(\n",
              "            'suggestCharts', [key], {});\n",
              "      } catch (error) {\n",
              "        console.error('Error during call to suggestCharts:', error);\n",
              "      }\n",
              "      quickchartButtonEl.classList.remove('colab-df-spinner');\n",
              "      quickchartButtonEl.classList.add('colab-df-quickchart-complete');\n",
              "    }\n",
              "    (() => {\n",
              "      let quickchartButtonEl =\n",
              "        document.querySelector('#df-7080e19b-1886-41f9-8aa4-ac54220f63f3 button');\n",
              "      quickchartButtonEl.style.display =\n",
              "        google.colab.kernel.accessAllowed ? 'block' : 'none';\n",
              "    })();\n",
              "  </script>\n",
              "</div>\n",
              "\n",
              "  <div id=\"id_7765c4ff-ed2b-4b12-af48-6caca9aba8d9\">\n",
              "    <style>\n",
              "      .colab-df-generate {\n",
              "        background-color: #E8F0FE;\n",
              "        border: none;\n",
              "        border-radius: 50%;\n",
              "        cursor: pointer;\n",
              "        display: none;\n",
              "        fill: #1967D2;\n",
              "        height: 32px;\n",
              "        padding: 0 0 0 0;\n",
              "        width: 32px;\n",
              "      }\n",
              "\n",
              "      .colab-df-generate:hover {\n",
              "        background-color: #E2EBFA;\n",
              "        box-shadow: 0px 1px 2px rgba(60, 64, 67, 0.3), 0px 1px 3px 1px rgba(60, 64, 67, 0.15);\n",
              "        fill: #174EA6;\n",
              "      }\n",
              "\n",
              "      [theme=dark] .colab-df-generate {\n",
              "        background-color: #3B4455;\n",
              "        fill: #D2E3FC;\n",
              "      }\n",
              "\n",
              "      [theme=dark] .colab-df-generate:hover {\n",
              "        background-color: #434B5C;\n",
              "        box-shadow: 0px 1px 3px 1px rgba(0, 0, 0, 0.15);\n",
              "        filter: drop-shadow(0px 1px 2px rgba(0, 0, 0, 0.3));\n",
              "        fill: #FFFFFF;\n",
              "      }\n",
              "    </style>\n",
              "    <button class=\"colab-df-generate\" onclick=\"generateWithVariable('station_pm10_max_daily')\"\n",
              "            title=\"Generate code using this dataframe.\"\n",
              "            style=\"display:none;\">\n",
              "\n",
              "  <svg xmlns=\"http://www.w3.org/2000/svg\" height=\"24px\"viewBox=\"0 0 24 24\"\n",
              "       width=\"24px\">\n",
              "    <path d=\"M7,19H8.4L18.45,9,17,7.55,7,17.6ZM5,21V16.75L18.45,3.32a2,2,0,0,1,2.83,0l1.4,1.43a1.91,1.91,0,0,1,.58,1.4,1.91,1.91,0,0,1-.58,1.4L9.25,21ZM18.45,9,17,7.55Zm-12,3A5.31,5.31,0,0,0,4.9,8.1,5.31,5.31,0,0,0,1,6.5,5.31,5.31,0,0,0,4.9,4.9,5.31,5.31,0,0,0,6.5,1,5.31,5.31,0,0,0,8.1,4.9,5.31,5.31,0,0,0,12,6.5,5.46,5.46,0,0,0,6.5,12Z\"/>\n",
              "  </svg>\n",
              "    </button>\n",
              "    <script>\n",
              "      (() => {\n",
              "      const buttonEl =\n",
              "        document.querySelector('#id_7765c4ff-ed2b-4b12-af48-6caca9aba8d9 button.colab-df-generate');\n",
              "      buttonEl.style.display =\n",
              "        google.colab.kernel.accessAllowed ? 'block' : 'none';\n",
              "\n",
              "      buttonEl.onclick = () => {\n",
              "        google.colab.notebook.generateWithVariable('station_pm10_max_daily');\n",
              "      }\n",
              "      })();\n",
              "    </script>\n",
              "  </div>\n",
              "\n",
              "    </div>\n",
              "  </div>\n"
            ],
            "application/vnd.google.colaboratory.intrinsic+json": {
              "type": "dataframe",
              "variable_name": "station_pm10_max_daily",
              "summary": "{\n  \"name\": \"station_pm10_max_daily\",\n  \"rows\": 3,\n  \"fields\": [\n    {\n      \"column\": \"datetime\",\n      \"properties\": {\n        \"dtype\": \"date\",\n        \"min\": \"2024-09-04 00:00:00\",\n        \"max\": \"2024-09-06 00:00:00\",\n        \"num_unique_values\": 3,\n        \"samples\": [\n          \"2024-09-04 00:00:00\",\n          \"2024-09-05 00:00:00\",\n          \"2024-09-06 00:00:00\"\n        ],\n        \"semantic_type\": \"\",\n        \"description\": \"\"\n      }\n    },\n    {\n      \"column\": \"conc_mos_micrograms_per_m3\",\n      \"properties\": {\n        \"dtype\": \"number\",\n        \"std\": 12.090216430375982,\n        \"min\": 16.5,\n        \"max\": 38.7,\n        \"num_unique_values\": 3,\n        \"samples\": [\n          16.5,\n          38.7,\n          35.9\n        ],\n        \"semantic_type\": \"\",\n        \"description\": \"\"\n      }\n    },\n    {\n      \"column\": \"conc_raw_micrograms_per_m3\",\n      \"properties\": {\n        \"dtype\": \"number\",\n        \"std\": 3.996248240537618,\n        \"min\": 29.3,\n        \"max\": 37.2,\n        \"num_unique_values\": 3,\n        \"samples\": [\n          29.3,\n          37.2,\n          34.3\n        ],\n        \"semantic_type\": \"\",\n        \"description\": \"\"\n      }\n    }\n  ]\n}"
            }
          },
          "metadata": {},
          "execution_count": 42
        }
      ],
      "source": [
        "station_pm10_max_daily = station_pm10_time_index.groupby(pd.Grouper(freq='D')).max()\n",
        "station_pm10_max_daily"
      ]
    },
    {
      "cell_type": "code",
      "execution_count": 43,
      "id": "12c2313e-5456-4c96-ae8d-af8e32f9d952",
      "metadata": {
        "id": "12c2313e-5456-4c96-ae8d-af8e32f9d952",
        "outputId": "633d1a50-34a4-45c1-ab74-2ac5b7e9f126",
        "colab": {
          "base_uri": "https://localhost:8080/",
          "height": 143
        }
      },
      "outputs": [
        {
          "output_type": "execute_result",
          "data": {
            "text/plain": [
              "            conc_mos_micrograms_per_m3\n",
              "datetime                              \n",
              "2024-09-05                        38.7\n",
              "2024-09-06                        35.9"
            ],
            "text/html": [
              "\n",
              "  <div id=\"df-5c91c138-33b4-4b3c-be0e-b435e4031826\" class=\"colab-df-container\">\n",
              "    <div>\n",
              "<style scoped>\n",
              "    .dataframe tbody tr th:only-of-type {\n",
              "        vertical-align: middle;\n",
              "    }\n",
              "\n",
              "    .dataframe tbody tr th {\n",
              "        vertical-align: top;\n",
              "    }\n",
              "\n",
              "    .dataframe thead th {\n",
              "        text-align: right;\n",
              "    }\n",
              "</style>\n",
              "<table border=\"1\" class=\"dataframe\">\n",
              "  <thead>\n",
              "    <tr style=\"text-align: right;\">\n",
              "      <th></th>\n",
              "      <th>conc_mos_micrograms_per_m3</th>\n",
              "    </tr>\n",
              "    <tr>\n",
              "      <th>datetime</th>\n",
              "      <th></th>\n",
              "    </tr>\n",
              "  </thead>\n",
              "  <tbody>\n",
              "    <tr>\n",
              "      <th>2024-09-05</th>\n",
              "      <td>38.7</td>\n",
              "    </tr>\n",
              "    <tr>\n",
              "      <th>2024-09-06</th>\n",
              "      <td>35.9</td>\n",
              "    </tr>\n",
              "  </tbody>\n",
              "</table>\n",
              "</div>\n",
              "    <div class=\"colab-df-buttons\">\n",
              "\n",
              "  <div class=\"colab-df-container\">\n",
              "    <button class=\"colab-df-convert\" onclick=\"convertToInteractive('df-5c91c138-33b4-4b3c-be0e-b435e4031826')\"\n",
              "            title=\"Convert this dataframe to an interactive table.\"\n",
              "            style=\"display:none;\">\n",
              "\n",
              "  <svg xmlns=\"http://www.w3.org/2000/svg\" height=\"24px\" viewBox=\"0 -960 960 960\">\n",
              "    <path d=\"M120-120v-720h720v720H120Zm60-500h600v-160H180v160Zm220 220h160v-160H400v160Zm0 220h160v-160H400v160ZM180-400h160v-160H180v160Zm440 0h160v-160H620v160ZM180-180h160v-160H180v160Zm440 0h160v-160H620v160Z\"/>\n",
              "  </svg>\n",
              "    </button>\n",
              "\n",
              "  <style>\n",
              "    .colab-df-container {\n",
              "      display:flex;\n",
              "      gap: 12px;\n",
              "    }\n",
              "\n",
              "    .colab-df-convert {\n",
              "      background-color: #E8F0FE;\n",
              "      border: none;\n",
              "      border-radius: 50%;\n",
              "      cursor: pointer;\n",
              "      display: none;\n",
              "      fill: #1967D2;\n",
              "      height: 32px;\n",
              "      padding: 0 0 0 0;\n",
              "      width: 32px;\n",
              "    }\n",
              "\n",
              "    .colab-df-convert:hover {\n",
              "      background-color: #E2EBFA;\n",
              "      box-shadow: 0px 1px 2px rgba(60, 64, 67, 0.3), 0px 1px 3px 1px rgba(60, 64, 67, 0.15);\n",
              "      fill: #174EA6;\n",
              "    }\n",
              "\n",
              "    .colab-df-buttons div {\n",
              "      margin-bottom: 4px;\n",
              "    }\n",
              "\n",
              "    [theme=dark] .colab-df-convert {\n",
              "      background-color: #3B4455;\n",
              "      fill: #D2E3FC;\n",
              "    }\n",
              "\n",
              "    [theme=dark] .colab-df-convert:hover {\n",
              "      background-color: #434B5C;\n",
              "      box-shadow: 0px 1px 3px 1px rgba(0, 0, 0, 0.15);\n",
              "      filter: drop-shadow(0px 1px 2px rgba(0, 0, 0, 0.3));\n",
              "      fill: #FFFFFF;\n",
              "    }\n",
              "  </style>\n",
              "\n",
              "    <script>\n",
              "      const buttonEl =\n",
              "        document.querySelector('#df-5c91c138-33b4-4b3c-be0e-b435e4031826 button.colab-df-convert');\n",
              "      buttonEl.style.display =\n",
              "        google.colab.kernel.accessAllowed ? 'block' : 'none';\n",
              "\n",
              "      async function convertToInteractive(key) {\n",
              "        const element = document.querySelector('#df-5c91c138-33b4-4b3c-be0e-b435e4031826');\n",
              "        const dataTable =\n",
              "          await google.colab.kernel.invokeFunction('convertToInteractive',\n",
              "                                                    [key], {});\n",
              "        if (!dataTable) return;\n",
              "\n",
              "        const docLinkHtml = 'Like what you see? Visit the ' +\n",
              "          '<a target=\"_blank\" href=https://colab.research.google.com/notebooks/data_table.ipynb>data table notebook</a>'\n",
              "          + ' to learn more about interactive tables.';\n",
              "        element.innerHTML = '';\n",
              "        dataTable['output_type'] = 'display_data';\n",
              "        await google.colab.output.renderOutput(dataTable, element);\n",
              "        const docLink = document.createElement('div');\n",
              "        docLink.innerHTML = docLinkHtml;\n",
              "        element.appendChild(docLink);\n",
              "      }\n",
              "    </script>\n",
              "  </div>\n",
              "\n",
              "\n",
              "<div id=\"df-686f5f75-4276-49d1-849d-ee40be883e91\">\n",
              "  <button class=\"colab-df-quickchart\" onclick=\"quickchart('df-686f5f75-4276-49d1-849d-ee40be883e91')\"\n",
              "            title=\"Suggest charts\"\n",
              "            style=\"display:none;\">\n",
              "\n",
              "<svg xmlns=\"http://www.w3.org/2000/svg\" height=\"24px\"viewBox=\"0 0 24 24\"\n",
              "     width=\"24px\">\n",
              "    <g>\n",
              "        <path d=\"M19 3H5c-1.1 0-2 .9-2 2v14c0 1.1.9 2 2 2h14c1.1 0 2-.9 2-2V5c0-1.1-.9-2-2-2zM9 17H7v-7h2v7zm4 0h-2V7h2v10zm4 0h-2v-4h2v4z\"/>\n",
              "    </g>\n",
              "</svg>\n",
              "  </button>\n",
              "\n",
              "<style>\n",
              "  .colab-df-quickchart {\n",
              "      --bg-color: #E8F0FE;\n",
              "      --fill-color: #1967D2;\n",
              "      --hover-bg-color: #E2EBFA;\n",
              "      --hover-fill-color: #174EA6;\n",
              "      --disabled-fill-color: #AAA;\n",
              "      --disabled-bg-color: #DDD;\n",
              "  }\n",
              "\n",
              "  [theme=dark] .colab-df-quickchart {\n",
              "      --bg-color: #3B4455;\n",
              "      --fill-color: #D2E3FC;\n",
              "      --hover-bg-color: #434B5C;\n",
              "      --hover-fill-color: #FFFFFF;\n",
              "      --disabled-bg-color: #3B4455;\n",
              "      --disabled-fill-color: #666;\n",
              "  }\n",
              "\n",
              "  .colab-df-quickchart {\n",
              "    background-color: var(--bg-color);\n",
              "    border: none;\n",
              "    border-radius: 50%;\n",
              "    cursor: pointer;\n",
              "    display: none;\n",
              "    fill: var(--fill-color);\n",
              "    height: 32px;\n",
              "    padding: 0;\n",
              "    width: 32px;\n",
              "  }\n",
              "\n",
              "  .colab-df-quickchart:hover {\n",
              "    background-color: var(--hover-bg-color);\n",
              "    box-shadow: 0 1px 2px rgba(60, 64, 67, 0.3), 0 1px 3px 1px rgba(60, 64, 67, 0.15);\n",
              "    fill: var(--button-hover-fill-color);\n",
              "  }\n",
              "\n",
              "  .colab-df-quickchart-complete:disabled,\n",
              "  .colab-df-quickchart-complete:disabled:hover {\n",
              "    background-color: var(--disabled-bg-color);\n",
              "    fill: var(--disabled-fill-color);\n",
              "    box-shadow: none;\n",
              "  }\n",
              "\n",
              "  .colab-df-spinner {\n",
              "    border: 2px solid var(--fill-color);\n",
              "    border-color: transparent;\n",
              "    border-bottom-color: var(--fill-color);\n",
              "    animation:\n",
              "      spin 1s steps(1) infinite;\n",
              "  }\n",
              "\n",
              "  @keyframes spin {\n",
              "    0% {\n",
              "      border-color: transparent;\n",
              "      border-bottom-color: var(--fill-color);\n",
              "      border-left-color: var(--fill-color);\n",
              "    }\n",
              "    20% {\n",
              "      border-color: transparent;\n",
              "      border-left-color: var(--fill-color);\n",
              "      border-top-color: var(--fill-color);\n",
              "    }\n",
              "    30% {\n",
              "      border-color: transparent;\n",
              "      border-left-color: var(--fill-color);\n",
              "      border-top-color: var(--fill-color);\n",
              "      border-right-color: var(--fill-color);\n",
              "    }\n",
              "    40% {\n",
              "      border-color: transparent;\n",
              "      border-right-color: var(--fill-color);\n",
              "      border-top-color: var(--fill-color);\n",
              "    }\n",
              "    60% {\n",
              "      border-color: transparent;\n",
              "      border-right-color: var(--fill-color);\n",
              "    }\n",
              "    80% {\n",
              "      border-color: transparent;\n",
              "      border-right-color: var(--fill-color);\n",
              "      border-bottom-color: var(--fill-color);\n",
              "    }\n",
              "    90% {\n",
              "      border-color: transparent;\n",
              "      border-bottom-color: var(--fill-color);\n",
              "    }\n",
              "  }\n",
              "</style>\n",
              "\n",
              "  <script>\n",
              "    async function quickchart(key) {\n",
              "      const quickchartButtonEl =\n",
              "        document.querySelector('#' + key + ' button');\n",
              "      quickchartButtonEl.disabled = true;  // To prevent multiple clicks.\n",
              "      quickchartButtonEl.classList.add('colab-df-spinner');\n",
              "      try {\n",
              "        const charts = await google.colab.kernel.invokeFunction(\n",
              "            'suggestCharts', [key], {});\n",
              "      } catch (error) {\n",
              "        console.error('Error during call to suggestCharts:', error);\n",
              "      }\n",
              "      quickchartButtonEl.classList.remove('colab-df-spinner');\n",
              "      quickchartButtonEl.classList.add('colab-df-quickchart-complete');\n",
              "    }\n",
              "    (() => {\n",
              "      let quickchartButtonEl =\n",
              "        document.querySelector('#df-686f5f75-4276-49d1-849d-ee40be883e91 button');\n",
              "      quickchartButtonEl.style.display =\n",
              "        google.colab.kernel.accessAllowed ? 'block' : 'none';\n",
              "    })();\n",
              "  </script>\n",
              "</div>\n",
              "\n",
              "  <div id=\"id_1a312556-a831-4f6c-99aa-c1e69973285d\">\n",
              "    <style>\n",
              "      .colab-df-generate {\n",
              "        background-color: #E8F0FE;\n",
              "        border: none;\n",
              "        border-radius: 50%;\n",
              "        cursor: pointer;\n",
              "        display: none;\n",
              "        fill: #1967D2;\n",
              "        height: 32px;\n",
              "        padding: 0 0 0 0;\n",
              "        width: 32px;\n",
              "      }\n",
              "\n",
              "      .colab-df-generate:hover {\n",
              "        background-color: #E2EBFA;\n",
              "        box-shadow: 0px 1px 2px rgba(60, 64, 67, 0.3), 0px 1px 3px 1px rgba(60, 64, 67, 0.15);\n",
              "        fill: #174EA6;\n",
              "      }\n",
              "\n",
              "      [theme=dark] .colab-df-generate {\n",
              "        background-color: #3B4455;\n",
              "        fill: #D2E3FC;\n",
              "      }\n",
              "\n",
              "      [theme=dark] .colab-df-generate:hover {\n",
              "        background-color: #434B5C;\n",
              "        box-shadow: 0px 1px 3px 1px rgba(0, 0, 0, 0.15);\n",
              "        filter: drop-shadow(0px 1px 2px rgba(0, 0, 0, 0.3));\n",
              "        fill: #FFFFFF;\n",
              "      }\n",
              "    </style>\n",
              "    <button class=\"colab-df-generate\" onclick=\"generateWithVariable('station_pm10_mos_max_daily')\"\n",
              "            title=\"Generate code using this dataframe.\"\n",
              "            style=\"display:none;\">\n",
              "\n",
              "  <svg xmlns=\"http://www.w3.org/2000/svg\" height=\"24px\"viewBox=\"0 0 24 24\"\n",
              "       width=\"24px\">\n",
              "    <path d=\"M7,19H8.4L18.45,9,17,7.55,7,17.6ZM5,21V16.75L18.45,3.32a2,2,0,0,1,2.83,0l1.4,1.43a1.91,1.91,0,0,1,.58,1.4,1.91,1.91,0,0,1-.58,1.4L9.25,21ZM18.45,9,17,7.55Zm-12,3A5.31,5.31,0,0,0,4.9,8.1,5.31,5.31,0,0,0,1,6.5,5.31,5.31,0,0,0,4.9,4.9,5.31,5.31,0,0,0,6.5,1,5.31,5.31,0,0,0,8.1,4.9,5.31,5.31,0,0,0,12,6.5,5.46,5.46,0,0,0,6.5,12Z\"/>\n",
              "  </svg>\n",
              "    </button>\n",
              "    <script>\n",
              "      (() => {\n",
              "      const buttonEl =\n",
              "        document.querySelector('#id_1a312556-a831-4f6c-99aa-c1e69973285d button.colab-df-generate');\n",
              "      buttonEl.style.display =\n",
              "        google.colab.kernel.accessAllowed ? 'block' : 'none';\n",
              "\n",
              "      buttonEl.onclick = () => {\n",
              "        google.colab.notebook.generateWithVariable('station_pm10_mos_max_daily');\n",
              "      }\n",
              "      })();\n",
              "    </script>\n",
              "  </div>\n",
              "\n",
              "    </div>\n",
              "  </div>\n"
            ],
            "application/vnd.google.colaboratory.intrinsic+json": {
              "type": "dataframe",
              "variable_name": "station_pm10_mos_max_daily",
              "summary": "{\n  \"name\": \"station_pm10_mos_max_daily\",\n  \"rows\": 2,\n  \"fields\": [\n    {\n      \"column\": \"datetime\",\n      \"properties\": {\n        \"dtype\": \"date\",\n        \"min\": \"2024-09-05 00:00:00\",\n        \"max\": \"2024-09-06 00:00:00\",\n        \"num_unique_values\": 2,\n        \"samples\": [\n          \"2024-09-06 00:00:00\",\n          \"2024-09-05 00:00:00\"\n        ],\n        \"semantic_type\": \"\",\n        \"description\": \"\"\n      }\n    },\n    {\n      \"column\": \"conc_mos_micrograms_per_m3\",\n      \"properties\": {\n        \"dtype\": \"number\",\n        \"std\": 1.979898987322336,\n        \"min\": 35.9,\n        \"max\": 38.7,\n        \"num_unique_values\": 2,\n        \"samples\": [\n          35.9,\n          38.7\n        ],\n        \"semantic_type\": \"\",\n        \"description\": \"\"\n      }\n    }\n  ]\n}"
            }
          },
          "metadata": {},
          "execution_count": 43
        }
      ],
      "source": [
        "station_pm10_mos_max_daily = station_pm10_max_daily[station_pm10_max_daily['conc_mos_micrograms_per_m3'] >\n",
        "                             pm10_max_concentration_threshold].drop(['conc_raw_micrograms_per_m3'], axis=1)\n",
        "station_pm10_mos_max_daily"
      ]
    },
    {
      "cell_type": "code",
      "execution_count": 44,
      "id": "b4c6f856-72cc-4c7f-ab2d-27ab2fda8644",
      "metadata": {
        "id": "b4c6f856-72cc-4c7f-ab2d-27ab2fda8644",
        "outputId": "a76adced-f1be-4961-a7e1-ad24374c7a05",
        "colab": {
          "base_uri": "https://localhost:8080/",
          "height": 175
        }
      },
      "outputs": [
        {
          "output_type": "execute_result",
          "data": {
            "text/plain": [
              "            conc_raw_micrograms_per_m3\n",
              "datetime                              \n",
              "2024-09-04                        29.3\n",
              "2024-09-05                        37.2\n",
              "2024-09-06                        34.3"
            ],
            "text/html": [
              "\n",
              "  <div id=\"df-f48fcd07-b740-4009-886e-874c1b8398c0\" class=\"colab-df-container\">\n",
              "    <div>\n",
              "<style scoped>\n",
              "    .dataframe tbody tr th:only-of-type {\n",
              "        vertical-align: middle;\n",
              "    }\n",
              "\n",
              "    .dataframe tbody tr th {\n",
              "        vertical-align: top;\n",
              "    }\n",
              "\n",
              "    .dataframe thead th {\n",
              "        text-align: right;\n",
              "    }\n",
              "</style>\n",
              "<table border=\"1\" class=\"dataframe\">\n",
              "  <thead>\n",
              "    <tr style=\"text-align: right;\">\n",
              "      <th></th>\n",
              "      <th>conc_raw_micrograms_per_m3</th>\n",
              "    </tr>\n",
              "    <tr>\n",
              "      <th>datetime</th>\n",
              "      <th></th>\n",
              "    </tr>\n",
              "  </thead>\n",
              "  <tbody>\n",
              "    <tr>\n",
              "      <th>2024-09-04</th>\n",
              "      <td>29.3</td>\n",
              "    </tr>\n",
              "    <tr>\n",
              "      <th>2024-09-05</th>\n",
              "      <td>37.2</td>\n",
              "    </tr>\n",
              "    <tr>\n",
              "      <th>2024-09-06</th>\n",
              "      <td>34.3</td>\n",
              "    </tr>\n",
              "  </tbody>\n",
              "</table>\n",
              "</div>\n",
              "    <div class=\"colab-df-buttons\">\n",
              "\n",
              "  <div class=\"colab-df-container\">\n",
              "    <button class=\"colab-df-convert\" onclick=\"convertToInteractive('df-f48fcd07-b740-4009-886e-874c1b8398c0')\"\n",
              "            title=\"Convert this dataframe to an interactive table.\"\n",
              "            style=\"display:none;\">\n",
              "\n",
              "  <svg xmlns=\"http://www.w3.org/2000/svg\" height=\"24px\" viewBox=\"0 -960 960 960\">\n",
              "    <path d=\"M120-120v-720h720v720H120Zm60-500h600v-160H180v160Zm220 220h160v-160H400v160Zm0 220h160v-160H400v160ZM180-400h160v-160H180v160Zm440 0h160v-160H620v160ZM180-180h160v-160H180v160Zm440 0h160v-160H620v160Z\"/>\n",
              "  </svg>\n",
              "    </button>\n",
              "\n",
              "  <style>\n",
              "    .colab-df-container {\n",
              "      display:flex;\n",
              "      gap: 12px;\n",
              "    }\n",
              "\n",
              "    .colab-df-convert {\n",
              "      background-color: #E8F0FE;\n",
              "      border: none;\n",
              "      border-radius: 50%;\n",
              "      cursor: pointer;\n",
              "      display: none;\n",
              "      fill: #1967D2;\n",
              "      height: 32px;\n",
              "      padding: 0 0 0 0;\n",
              "      width: 32px;\n",
              "    }\n",
              "\n",
              "    .colab-df-convert:hover {\n",
              "      background-color: #E2EBFA;\n",
              "      box-shadow: 0px 1px 2px rgba(60, 64, 67, 0.3), 0px 1px 3px 1px rgba(60, 64, 67, 0.15);\n",
              "      fill: #174EA6;\n",
              "    }\n",
              "\n",
              "    .colab-df-buttons div {\n",
              "      margin-bottom: 4px;\n",
              "    }\n",
              "\n",
              "    [theme=dark] .colab-df-convert {\n",
              "      background-color: #3B4455;\n",
              "      fill: #D2E3FC;\n",
              "    }\n",
              "\n",
              "    [theme=dark] .colab-df-convert:hover {\n",
              "      background-color: #434B5C;\n",
              "      box-shadow: 0px 1px 3px 1px rgba(0, 0, 0, 0.15);\n",
              "      filter: drop-shadow(0px 1px 2px rgba(0, 0, 0, 0.3));\n",
              "      fill: #FFFFFF;\n",
              "    }\n",
              "  </style>\n",
              "\n",
              "    <script>\n",
              "      const buttonEl =\n",
              "        document.querySelector('#df-f48fcd07-b740-4009-886e-874c1b8398c0 button.colab-df-convert');\n",
              "      buttonEl.style.display =\n",
              "        google.colab.kernel.accessAllowed ? 'block' : 'none';\n",
              "\n",
              "      async function convertToInteractive(key) {\n",
              "        const element = document.querySelector('#df-f48fcd07-b740-4009-886e-874c1b8398c0');\n",
              "        const dataTable =\n",
              "          await google.colab.kernel.invokeFunction('convertToInteractive',\n",
              "                                                    [key], {});\n",
              "        if (!dataTable) return;\n",
              "\n",
              "        const docLinkHtml = 'Like what you see? Visit the ' +\n",
              "          '<a target=\"_blank\" href=https://colab.research.google.com/notebooks/data_table.ipynb>data table notebook</a>'\n",
              "          + ' to learn more about interactive tables.';\n",
              "        element.innerHTML = '';\n",
              "        dataTable['output_type'] = 'display_data';\n",
              "        await google.colab.output.renderOutput(dataTable, element);\n",
              "        const docLink = document.createElement('div');\n",
              "        docLink.innerHTML = docLinkHtml;\n",
              "        element.appendChild(docLink);\n",
              "      }\n",
              "    </script>\n",
              "  </div>\n",
              "\n",
              "\n",
              "<div id=\"df-ca761362-6228-4d58-acb9-a6f3bcae209e\">\n",
              "  <button class=\"colab-df-quickchart\" onclick=\"quickchart('df-ca761362-6228-4d58-acb9-a6f3bcae209e')\"\n",
              "            title=\"Suggest charts\"\n",
              "            style=\"display:none;\">\n",
              "\n",
              "<svg xmlns=\"http://www.w3.org/2000/svg\" height=\"24px\"viewBox=\"0 0 24 24\"\n",
              "     width=\"24px\">\n",
              "    <g>\n",
              "        <path d=\"M19 3H5c-1.1 0-2 .9-2 2v14c0 1.1.9 2 2 2h14c1.1 0 2-.9 2-2V5c0-1.1-.9-2-2-2zM9 17H7v-7h2v7zm4 0h-2V7h2v10zm4 0h-2v-4h2v4z\"/>\n",
              "    </g>\n",
              "</svg>\n",
              "  </button>\n",
              "\n",
              "<style>\n",
              "  .colab-df-quickchart {\n",
              "      --bg-color: #E8F0FE;\n",
              "      --fill-color: #1967D2;\n",
              "      --hover-bg-color: #E2EBFA;\n",
              "      --hover-fill-color: #174EA6;\n",
              "      --disabled-fill-color: #AAA;\n",
              "      --disabled-bg-color: #DDD;\n",
              "  }\n",
              "\n",
              "  [theme=dark] .colab-df-quickchart {\n",
              "      --bg-color: #3B4455;\n",
              "      --fill-color: #D2E3FC;\n",
              "      --hover-bg-color: #434B5C;\n",
              "      --hover-fill-color: #FFFFFF;\n",
              "      --disabled-bg-color: #3B4455;\n",
              "      --disabled-fill-color: #666;\n",
              "  }\n",
              "\n",
              "  .colab-df-quickchart {\n",
              "    background-color: var(--bg-color);\n",
              "    border: none;\n",
              "    border-radius: 50%;\n",
              "    cursor: pointer;\n",
              "    display: none;\n",
              "    fill: var(--fill-color);\n",
              "    height: 32px;\n",
              "    padding: 0;\n",
              "    width: 32px;\n",
              "  }\n",
              "\n",
              "  .colab-df-quickchart:hover {\n",
              "    background-color: var(--hover-bg-color);\n",
              "    box-shadow: 0 1px 2px rgba(60, 64, 67, 0.3), 0 1px 3px 1px rgba(60, 64, 67, 0.15);\n",
              "    fill: var(--button-hover-fill-color);\n",
              "  }\n",
              "\n",
              "  .colab-df-quickchart-complete:disabled,\n",
              "  .colab-df-quickchart-complete:disabled:hover {\n",
              "    background-color: var(--disabled-bg-color);\n",
              "    fill: var(--disabled-fill-color);\n",
              "    box-shadow: none;\n",
              "  }\n",
              "\n",
              "  .colab-df-spinner {\n",
              "    border: 2px solid var(--fill-color);\n",
              "    border-color: transparent;\n",
              "    border-bottom-color: var(--fill-color);\n",
              "    animation:\n",
              "      spin 1s steps(1) infinite;\n",
              "  }\n",
              "\n",
              "  @keyframes spin {\n",
              "    0% {\n",
              "      border-color: transparent;\n",
              "      border-bottom-color: var(--fill-color);\n",
              "      border-left-color: var(--fill-color);\n",
              "    }\n",
              "    20% {\n",
              "      border-color: transparent;\n",
              "      border-left-color: var(--fill-color);\n",
              "      border-top-color: var(--fill-color);\n",
              "    }\n",
              "    30% {\n",
              "      border-color: transparent;\n",
              "      border-left-color: var(--fill-color);\n",
              "      border-top-color: var(--fill-color);\n",
              "      border-right-color: var(--fill-color);\n",
              "    }\n",
              "    40% {\n",
              "      border-color: transparent;\n",
              "      border-right-color: var(--fill-color);\n",
              "      border-top-color: var(--fill-color);\n",
              "    }\n",
              "    60% {\n",
              "      border-color: transparent;\n",
              "      border-right-color: var(--fill-color);\n",
              "    }\n",
              "    80% {\n",
              "      border-color: transparent;\n",
              "      border-right-color: var(--fill-color);\n",
              "      border-bottom-color: var(--fill-color);\n",
              "    }\n",
              "    90% {\n",
              "      border-color: transparent;\n",
              "      border-bottom-color: var(--fill-color);\n",
              "    }\n",
              "  }\n",
              "</style>\n",
              "\n",
              "  <script>\n",
              "    async function quickchart(key) {\n",
              "      const quickchartButtonEl =\n",
              "        document.querySelector('#' + key + ' button');\n",
              "      quickchartButtonEl.disabled = true;  // To prevent multiple clicks.\n",
              "      quickchartButtonEl.classList.add('colab-df-spinner');\n",
              "      try {\n",
              "        const charts = await google.colab.kernel.invokeFunction(\n",
              "            'suggestCharts', [key], {});\n",
              "      } catch (error) {\n",
              "        console.error('Error during call to suggestCharts:', error);\n",
              "      }\n",
              "      quickchartButtonEl.classList.remove('colab-df-spinner');\n",
              "      quickchartButtonEl.classList.add('colab-df-quickchart-complete');\n",
              "    }\n",
              "    (() => {\n",
              "      let quickchartButtonEl =\n",
              "        document.querySelector('#df-ca761362-6228-4d58-acb9-a6f3bcae209e button');\n",
              "      quickchartButtonEl.style.display =\n",
              "        google.colab.kernel.accessAllowed ? 'block' : 'none';\n",
              "    })();\n",
              "  </script>\n",
              "</div>\n",
              "\n",
              "  <div id=\"id_7ca1236a-b4e9-4fe4-8c07-37d0da30c01f\">\n",
              "    <style>\n",
              "      .colab-df-generate {\n",
              "        background-color: #E8F0FE;\n",
              "        border: none;\n",
              "        border-radius: 50%;\n",
              "        cursor: pointer;\n",
              "        display: none;\n",
              "        fill: #1967D2;\n",
              "        height: 32px;\n",
              "        padding: 0 0 0 0;\n",
              "        width: 32px;\n",
              "      }\n",
              "\n",
              "      .colab-df-generate:hover {\n",
              "        background-color: #E2EBFA;\n",
              "        box-shadow: 0px 1px 2px rgba(60, 64, 67, 0.3), 0px 1px 3px 1px rgba(60, 64, 67, 0.15);\n",
              "        fill: #174EA6;\n",
              "      }\n",
              "\n",
              "      [theme=dark] .colab-df-generate {\n",
              "        background-color: #3B4455;\n",
              "        fill: #D2E3FC;\n",
              "      }\n",
              "\n",
              "      [theme=dark] .colab-df-generate:hover {\n",
              "        background-color: #434B5C;\n",
              "        box-shadow: 0px 1px 3px 1px rgba(0, 0, 0, 0.15);\n",
              "        filter: drop-shadow(0px 1px 2px rgba(0, 0, 0, 0.3));\n",
              "        fill: #FFFFFF;\n",
              "      }\n",
              "    </style>\n",
              "    <button class=\"colab-df-generate\" onclick=\"generateWithVariable('station_pm10_raw_max_daily')\"\n",
              "            title=\"Generate code using this dataframe.\"\n",
              "            style=\"display:none;\">\n",
              "\n",
              "  <svg xmlns=\"http://www.w3.org/2000/svg\" height=\"24px\"viewBox=\"0 0 24 24\"\n",
              "       width=\"24px\">\n",
              "    <path d=\"M7,19H8.4L18.45,9,17,7.55,7,17.6ZM5,21V16.75L18.45,3.32a2,2,0,0,1,2.83,0l1.4,1.43a1.91,1.91,0,0,1,.58,1.4,1.91,1.91,0,0,1-.58,1.4L9.25,21ZM18.45,9,17,7.55Zm-12,3A5.31,5.31,0,0,0,4.9,8.1,5.31,5.31,0,0,0,1,6.5,5.31,5.31,0,0,0,4.9,4.9,5.31,5.31,0,0,0,6.5,1,5.31,5.31,0,0,0,8.1,4.9,5.31,5.31,0,0,0,12,6.5,5.46,5.46,0,0,0,6.5,12Z\"/>\n",
              "  </svg>\n",
              "    </button>\n",
              "    <script>\n",
              "      (() => {\n",
              "      const buttonEl =\n",
              "        document.querySelector('#id_7ca1236a-b4e9-4fe4-8c07-37d0da30c01f button.colab-df-generate');\n",
              "      buttonEl.style.display =\n",
              "        google.colab.kernel.accessAllowed ? 'block' : 'none';\n",
              "\n",
              "      buttonEl.onclick = () => {\n",
              "        google.colab.notebook.generateWithVariable('station_pm10_raw_max_daily');\n",
              "      }\n",
              "      })();\n",
              "    </script>\n",
              "  </div>\n",
              "\n",
              "    </div>\n",
              "  </div>\n"
            ],
            "application/vnd.google.colaboratory.intrinsic+json": {
              "type": "dataframe",
              "variable_name": "station_pm10_raw_max_daily",
              "summary": "{\n  \"name\": \"station_pm10_raw_max_daily\",\n  \"rows\": 3,\n  \"fields\": [\n    {\n      \"column\": \"datetime\",\n      \"properties\": {\n        \"dtype\": \"date\",\n        \"min\": \"2024-09-04 00:00:00\",\n        \"max\": \"2024-09-06 00:00:00\",\n        \"num_unique_values\": 3,\n        \"samples\": [\n          \"2024-09-04 00:00:00\",\n          \"2024-09-05 00:00:00\",\n          \"2024-09-06 00:00:00\"\n        ],\n        \"semantic_type\": \"\",\n        \"description\": \"\"\n      }\n    },\n    {\n      \"column\": \"conc_raw_micrograms_per_m3\",\n      \"properties\": {\n        \"dtype\": \"number\",\n        \"std\": 3.996248240537618,\n        \"min\": 29.3,\n        \"max\": 37.2,\n        \"num_unique_values\": 3,\n        \"samples\": [\n          29.3,\n          37.2,\n          34.3\n        ],\n        \"semantic_type\": \"\",\n        \"description\": \"\"\n      }\n    }\n  ]\n}"
            }
          },
          "metadata": {},
          "execution_count": 44
        }
      ],
      "source": [
        "station_pm10_raw_max_daily = station_pm10_max_daily[station_pm10_max_daily['conc_raw_micrograms_per_m3'] >\n",
        "                             pm10_max_concentration_threshold].drop(['conc_mos_micrograms_per_m3'], axis=1)\n",
        "station_pm10_raw_max_daily"
      ]
    },
    {
      "cell_type": "markdown",
      "id": "c8b81ab3-c4ab-44cc-8dd2-c4433c0c5b93",
      "metadata": {
        "id": "c8b81ab3-c4ab-44cc-8dd2-c4433c0c5b93"
      },
      "source": [
        "## References\n",
        "* [Bertrand, Meleux, Ung, Descombes, Colette - Technical note: Improving the European air quality forecast of the Copernicus Atmosphere Monitoring Service using machine learning techniques](https://acp.copernicus.org/articles/23/5317/2023/)"
      ]
    },
    {
      "cell_type": "code",
      "execution_count": null,
      "id": "ca976b4b-4947-4fce-be67-7801a1863f14",
      "metadata": {
        "id": "ca976b4b-4947-4fce-be67-7801a1863f14"
      },
      "outputs": [],
      "source": []
    }
  ],
  "metadata": {
    "kernelspec": {
      "display_name": "Python 3 (ipykernel)",
      "language": "python",
      "name": "python3"
    },
    "language_info": {
      "codemirror_mode": {
        "name": "ipython",
        "version": 3
      },
      "file_extension": ".py",
      "mimetype": "text/x-python",
      "name": "python",
      "nbconvert_exporter": "python",
      "pygments_lexer": "ipython3",
      "version": "3.12.5"
    },
    "colab": {
      "provenance": [],
      "include_colab_link": true
    }
  },
  "nbformat": 4,
  "nbformat_minor": 5
}